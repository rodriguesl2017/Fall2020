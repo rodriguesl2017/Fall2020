{
  "nbformat": 4,
  "nbformat_minor": 0,
  "metadata": {
    "colab": {
      "name": "Cellular_Automata_Lab.ipynb",
      "provenance": []
    },
    "kernelspec": {
      "name": "python3",
      "display_name": "Python 3"
    }
  },
  "cells": [
    {
      "cell_type": "markdown",
      "metadata": {
        "id": "jGAC86b_9fse",
        "colab_type": "text"
      },
      "source": [
        "# Cellular Automata"
      ]
    },
    {
      "cell_type": "markdown",
      "metadata": {
        "id": "mwXioCVP9z41",
        "colab_type": "text"
      },
      "source": [
        "### Watch https://www.youtube.com/watch?v=_eC14GonZnU"
      ]
    },
    {
      "cell_type": "markdown",
      "metadata": {
        "id": "LoK68Aky9Xb6",
        "colab_type": "text"
      },
      "source": [
        "## Method 1 Spreadsheet"
      ]
    },
    {
      "cell_type": "markdown",
      "metadata": {
        "id": "N1K_pV0_Zj5E",
        "colab_type": "text"
      },
      "source": [
        "[Cellular Automata Google Sheet](https://docs.google.com/spreadsheets/d/1kx-o9iB0E52b3i3HETn5JZBoOf5gWNtEOsHpEpMUD-A/edit?usp=sharing)"
      ]
    },
    {
      "cell_type": "markdown",
      "metadata": {
        "id": "uZyo4rjZ9nZ5",
        "colab_type": "text"
      },
      "source": [
        "## Method 2 Lookup Table"
      ]
    },
    {
      "cell_type": "code",
      "metadata": {
        "id": "drHX1cz1Urpx",
        "colab_type": "code",
        "colab": {}
      },
      "source": [
        "import numpy as np\n",
        "import matplotlib.pyplot as plt #import necessary libraries"
      ],
      "execution_count": 4,
      "outputs": []
    },
    {
      "cell_type": "code",
      "metadata": {
        "id": "ZvNFBrihU2dW",
        "colab_type": "code",
        "colab": {}
      },
      "source": [
        "C = np.zeros((100,100)).astype(int)  #returns 100x100 matrix filled with null integers "
      ],
      "execution_count": 5,
      "outputs": []
    },
    {
      "cell_type": "code",
      "metadata": {
        "id": "UcxVyj9hU_3k",
        "colab_type": "code",
        "colab": {}
      },
      "source": [
        "def plot(x): #formats plot\n",
        "    fig, ax = plt.subplots()\n",
        "    im = ax.imshow(x, cmap = 'gray')\n",
        "    ax.axis('off')\n",
        "    fig.set_size_inches(10, 10)\n",
        "    plt.show()"
      ],
      "execution_count": 6,
      "outputs": []
    },
    {
      "cell_type": "code",
      "metadata": {
        "id": "5ArMOGZEVXdW",
        "colab_type": "code",
        "colab": {
          "base_uri": "https://localhost:8080/",
          "height": 575
        },
        "outputId": "a7caeb26-f38e-435b-9c05-4b0cf14e6b61"
      },
      "source": [
        "plot(C)"
      ],
      "execution_count": 7,
      "outputs": [
        {
          "output_type": "display_data",
          "data": {
            "image/png": "[encoded data removed]",
            "text/plain": [
              "<Figure size 720x720 with 1 Axes>"
            ]
          },
          "metadata": {
            "tags": [],
            "needs_background": "light"
          }
        }
      ]
    },
    {
      "cell_type": "code",
      "metadata": {
        "id": "PlA4yWBcVYjg",
        "colab_type": "code",
        "colab": {}
      },
      "source": [
        "C[0,50] = 1 #changes a value in the matrix, thus changing that singular spot in the plot"
      ],
      "execution_count": 8,
      "outputs": []
    },
    {
      "cell_type": "code",
      "metadata": {
        "id": "TkJ-nFfgVixx",
        "colab_type": "code",
        "colab": {
          "base_uri": "https://localhost:8080/",
          "height": 575
        },
        "outputId": "e5d504c5-fa83-4e31-a561-e2fe8af25f8c"
      },
      "source": [
        "plot(C)"
      ],
      "execution_count": 9,
      "outputs": [
        {
          "output_type": "display_data",
          "data": {
            "image/png": "[encoded data removed]",
            "text/plain": [
              "<Figure size 720x720 with 1 Axes>"
            ]
          },
          "metadata": {
            "tags": [],
            "needs_background": "light"
          }
        }
      ]
    },
    {
      "cell_type": "markdown",
      "metadata": {
        "id": "LuzWYxOYz9qA",
        "colab_type": "text"
      },
      "source": [
        "<img src = 'https://mathworld.wolfram.com/images/eps-gif/ElementaryCARule090_1000.gif'>"
      ]
    },
    {
      "cell_type": "code",
      "metadata": {
        "id": "sTNinSjG3wTB",
        "colab_type": "code",
        "colab": {
          "base_uri": "https://localhost:8080/",
          "height": 35
        },
        "outputId": "5a874dfe-99b1-4fa3-d471-323747bf7107"
      },
      "source": [
        "bin(90) #returns binary of 90"
      ],
      "execution_count": 10,
      "outputs": [
        {
          "output_type": "execute_result",
          "data": {
            "application/vnd.google.colaboratory.intrinsic+json": {
              "type": "string"
            },
            "text/plain": [
              "'0b1011010'"
            ]
          },
          "metadata": {
            "tags": []
          },
          "execution_count": 10
        }
      ]
    },
    {
      "cell_type": "code",
      "metadata": {
        "id": "lDAb0-my2UT4",
        "colab_type": "code",
        "colab": {}
      },
      "source": [
        "rule = np.zeros((2,2,2)) #creates rules in the form of a 3d array"
      ],
      "execution_count": 11,
      "outputs": []
    },
    {
      "cell_type": "code",
      "metadata": {
        "id": "t0qeGmlZ2oMi",
        "colab_type": "code",
        "colab": {}
      },
      "source": [
        "rule[0,0,0] = 0 #breakdown of rule 90 to be used in other functions. Each possible value of a binary point and its neighborhoods is defined. \n",
        "rule[0,0,1] = 1\n",
        "rule[0,1,0] = 0\n",
        "rule[0,1,1] = 1\n",
        "rule[1,0,0] = 1\n",
        "rule[1,0,1] = 0\n",
        "rule[1,1,0] = 1\n",
        "rule[1,1,1] = 0"
      ],
      "execution_count": 12,
      "outputs": []
    },
    {
      "cell_type": "code",
      "metadata": {
        "colab_type": "code",
        "id": "G_gZIdmp56D2",
        "colab": {}
      },
      "source": [
        "def CA(X): #fills previously defined 100x100 matrix according according to the rules above\n",
        "\n",
        "    for i in range(1,X.shape[0]-1): #row\n",
        "        for j in range(1,X.shape[1]-1): #col\n",
        "\n",
        "            N  = X[i-1,j] #defines north of that point\n",
        "            NW = X[i-1,j-1] #defines northwest of that point\n",
        "            NE = X[i-1,j+1] #defines northeast of that point\n",
        "\n",
        "            X[i,j] = rule[NW,N,NE] #defines a generation of the system according to ruleset\n",
        "\n",
        "    return X"
      ],
      "execution_count": 13,
      "outputs": []
    },
    {
      "cell_type": "code",
      "metadata": {
        "id": "yfOsxySl3dyx",
        "colab_type": "code",
        "colab": {
          "base_uri": "https://localhost:8080/",
          "height": 575
        },
        "outputId": "1d83475e-bdb7-4bd8-ecbb-5386014c6449"
      },
      "source": [
        "plot(CA(C)) #plots matrix"
      ],
      "execution_count": 14,
      "outputs": [
        {
          "output_type": "display_data",
          "data": {
            "image/png": "[encoded data removed]",
            "text/plain": [
              "<Figure size 720x720 with 1 Axes>"
            ]
          },
          "metadata": {
            "tags": [],
            "needs_background": "light"
          }
        }
      ]
    },
    {
      "cell_type": "code",
      "metadata": {
        "id": "L1aoRWLt3d1F",
        "colab_type": "code",
        "colab": {}
      },
      "source": [
        ""
      ],
      "execution_count": 14,
      "outputs": []
    },
    {
      "cell_type": "markdown",
      "metadata": {
        "id": "ixqfbTnb9ts0",
        "colab_type": "text"
      },
      "source": [
        "## Method 3 Direct Formula "
      ]
    },
    {
      "cell_type": "code",
      "metadata": {
        "id": "46gjRM2zVyWY",
        "colab_type": "code",
        "colab": {}
      },
      "source": [
        "def CA(X): #using rule 90, the function iterates through the matrix and decises, using the boolean mod 2 equation, whether each point will be colored or not.\n",
        "\n",
        "    for i in range(1,X.shape[0]-1): #row\n",
        "        for j in range(1,X.shape[1]-1): #col\n",
        "\n",
        "            X[i,j] = (rule/(2**(4*X[i-1,j-1] + 2*X[i-1,j] + X[i-1,j+1]))) % 2\n",
        "\n",
        "    return X"
      ],
      "execution_count": 15,
      "outputs": []
    },
    {
      "cell_type": "code",
      "metadata": {
        "id": "p06mQ-SmWPtj",
        "colab_type": "code",
        "colab": {}
      },
      "source": [
        "rule = 90"
      ],
      "execution_count": 18,
      "outputs": []
    },
    {
      "cell_type": "code",
      "metadata": {
        "id": "bYJnox68WPwl",
        "colab_type": "code",
        "colab": {
          "base_uri": "https://localhost:8080/",
          "height": 575
        },
        "outputId": "d5318025-9891-4c5a-a754-9d94db3047be"
      },
      "source": [
        "plot(CA(C))"
      ],
      "execution_count": 19,
      "outputs": [
        {
          "output_type": "display_data",
          "data": {
            "image/png": "[encoded data removed]",
            "text/plain": [
              "<Figure size 720x720 with 1 Axes>"
            ]
          },
          "metadata": {
            "tags": [],
            "needs_background": "light"
          }
        }
      ]
    },
    {
      "cell_type": "code",
      "metadata": {
        "id": "fXMhIuwMYx7M",
        "colab_type": "code",
        "colab": {}
      },
      "source": [
        ""
      ],
      "execution_count": null,
      "outputs": []
    },
    {
      "cell_type": "code",
      "metadata": {
        "id": "JWfOIdlbzfsH",
        "colab_type": "code",
        "colab": {}
      },
      "source": [
        ""
      ],
      "execution_count": null,
      "outputs": []
    },
    {
      "cell_type": "code",
      "metadata": {
        "id": "GYlnof2izfus",
        "colab_type": "code",
        "colab": {}
      },
      "source": [
        ""
      ],
      "execution_count": null,
      "outputs": []
    }
  ]
}