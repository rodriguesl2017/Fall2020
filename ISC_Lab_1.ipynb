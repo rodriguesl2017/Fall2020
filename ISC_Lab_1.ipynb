{
  "nbformat": 4,
  "nbformat_minor": 0,
  "metadata": {
    "colab": {
      "name": "ISC Lab 1.ipynb",
      "provenance": []
    },
    "kernelspec": {
      "name": "python3",
      "display_name": "Python 3"
    }
  },
  "cells": [
    {
      "cell_type": "markdown",
      "metadata": {
        "id": "huCdjZ61iQaq",
        "colab_type": "text"
      },
      "source": [
        "Hello world and comment. "
      ]
    },
    {
      "cell_type": "code",
      "metadata": {
        "id": "4EjHxzCniK93",
        "colab_type": "code",
        "colab": {
          "base_uri": "https://localhost:8080/",
          "height": 53
        },
        "outputId": "3b31609e-2eb3-44f8-c5fc-2b1a9b31b85a"
      },
      "source": [
        "print('Hello World') #Hello World\n",
        "'''\n",
        "This is a comment\n",
        "with\n",
        "multiple lines\n",
        "'''"
      ],
      "execution_count": null,
      "outputs": [
        {
          "output_type": "stream",
          "text": [
            "Hello World\n"
          ],
          "name": "stdout"
        },
        {
          "output_type": "execute_result",
          "data": {
            "application/vnd.google.colaboratory.intrinsic+json": {
              "type": "string"
            },
            "text/plain": [
              "'\\nThis is a comment\\nwith\\nmultiple lines\\n'"
            ]
          },
          "metadata": {
            "tags": []
          },
          "execution_count": 84
        }
      ]
    },
    {
      "cell_type": "markdown",
      "metadata": {
        "id": "7T2-JK-WkHBX",
        "colab_type": "text"
      },
      "source": [
        "Operations"
      ]
    },
    {
      "cell_type": "code",
      "metadata": {
        "id": "JfQqnAdXikPQ",
        "colab_type": "code",
        "colab": {
          "base_uri": "https://localhost:8080/"
        },
        "outputId": "f9d1ec00-23f6-48c1-a72a-67fe181fa371"
      },
      "source": [
        "2 + 3 #addition\n"
      ],
      "execution_count": null,
      "outputs": [
        {
          "output_type": "execute_result",
          "data": {
            "text/plain": [
              "5"
            ]
          },
          "metadata": {
            "tags": []
          },
          "execution_count": 85
        }
      ]
    },
    {
      "cell_type": "code",
      "metadata": {
        "id": "RnsJdETIiuta",
        "colab_type": "code",
        "colab": {
          "base_uri": "https://localhost:8080/"
        },
        "outputId": "c8c136af-b047-478b-8c6f-e0f5bc935f95"
      },
      "source": [
        "5-1 #subtractiom\n"
      ],
      "execution_count": null,
      "outputs": [
        {
          "output_type": "execute_result",
          "data": {
            "text/plain": [
              "4"
            ]
          },
          "metadata": {
            "tags": []
          },
          "execution_count": 86
        }
      ]
    },
    {
      "cell_type": "code",
      "metadata": {
        "id": "vA1i-Ckxi_5W",
        "colab_type": "code",
        "colab": {
          "base_uri": "https://localhost:8080/"
        },
        "outputId": "398d7819-f259-4553-ecb8-dc5d5991680c"
      },
      "source": [
        "5*2 #multiplication\n"
      ],
      "execution_count": null,
      "outputs": [
        {
          "output_type": "execute_result",
          "data": {
            "text/plain": [
              "10"
            ]
          },
          "metadata": {
            "tags": []
          },
          "execution_count": 87
        }
      ]
    },
    {
      "cell_type": "code",
      "metadata": {
        "id": "Z5h_SAaUjBOS",
        "colab_type": "code",
        "colab": {
          "base_uri": "https://localhost:8080/"
        },
        "outputId": "0f1cd909-521d-44ab-b13f-e9805e47a704"
      },
      "source": [
        "10/2 #division"
      ],
      "execution_count": null,
      "outputs": [
        {
          "output_type": "execute_result",
          "data": {
            "text/plain": [
              "5.0"
            ]
          },
          "metadata": {
            "tags": []
          },
          "execution_count": 88
        }
      ]
    },
    {
      "cell_type": "code",
      "metadata": {
        "id": "_3Q4ishBk324",
        "colab_type": "code",
        "colab": {
          "base_uri": "https://localhost:8080/"
        },
        "outputId": "60d662ee-1943-4880-b5eb-df497ba3e47c"
      },
      "source": [
        "10//3 #floor division"
      ],
      "execution_count": null,
      "outputs": [
        {
          "output_type": "execute_result",
          "data": {
            "text/plain": [
              "3"
            ]
          },
          "metadata": {
            "tags": []
          },
          "execution_count": 89
        }
      ]
    },
    {
      "cell_type": "code",
      "metadata": {
        "id": "7NgK1na4k-Hc",
        "colab_type": "code",
        "colab": {
          "base_uri": "https://localhost:8080/"
        },
        "outputId": "a174e0f0-e85c-4ee2-bef4-44df2b745ea9"
      },
      "source": [
        "10%3 #modulus"
      ],
      "execution_count": null,
      "outputs": [
        {
          "output_type": "execute_result",
          "data": {
            "text/plain": [
              "1"
            ]
          },
          "metadata": {
            "tags": []
          },
          "execution_count": 90
        }
      ]
    },
    {
      "cell_type": "code",
      "metadata": {
        "id": "F3KPBNhSlE6B",
        "colab_type": "code",
        "colab": {
          "base_uri": "https://localhost:8080/"
        },
        "outputId": "b66d1fa4-77d9-4ad3-a38f-8d1746feb1c3"
      },
      "source": [
        "3**4 #exponent"
      ],
      "execution_count": null,
      "outputs": [
        {
          "output_type": "execute_result",
          "data": {
            "text/plain": [
              "81"
            ]
          },
          "metadata": {
            "tags": []
          },
          "execution_count": 91
        }
      ]
    },
    {
      "cell_type": "markdown",
      "metadata": {
        "id": "VS2zznphNGL1",
        "colab_type": "text"
      },
      "source": [
        "Variables"
      ]
    },
    {
      "cell_type": "code",
      "metadata": {
        "id": "j5sZHb6BjPhj",
        "colab_type": "code",
        "colab": {}
      },
      "source": [
        "userage, username = 30,'peter' #declares and initializes variables with different types. userage is set to the integer 30 and username to the string peter"
      ],
      "execution_count": null,
      "outputs": []
    },
    {
      "cell_type": "code",
      "metadata": {
        "id": "C-o5FFs6jwcA",
        "colab_type": "code",
        "colab": {
          "base_uri": "https://localhost:8080/"
        },
        "outputId": "53c95211-5130-4f61-9e23-d8efca9e1f42"
      },
      "source": [
        "userage"
      ],
      "execution_count": null,
      "outputs": [
        {
          "output_type": "execute_result",
          "data": {
            "text/plain": [
              "30"
            ]
          },
          "metadata": {
            "tags": []
          },
          "execution_count": 93
        }
      ]
    },
    {
      "cell_type": "code",
      "metadata": {
        "id": "Z4uqVlI2j_P4",
        "colab_type": "code",
        "colab": {
          "base_uri": "https://localhost:8080/"
        },
        "outputId": "c124b2b3-5e52-474d-8426-e5079f7c78b0"
      },
      "source": [
        "username"
      ],
      "execution_count": null,
      "outputs": [
        {
          "output_type": "execute_result",
          "data": {
            "application/vnd.google.colaboratory.intrinsic+json": {
              "type": "string"
            },
            "text/plain": [
              "'peter'"
            ]
          },
          "metadata": {
            "tags": []
          },
          "execution_count": 94
        }
      ]
    },
    {
      "cell_type": "code",
      "metadata": {
        "id": "pZIeuVNakACe",
        "colab_type": "code",
        "colab": {}
      },
      "source": [
        "x, y = 2,5\n",
        "x=y #assigning the value of x to y"
      ],
      "execution_count": null,
      "outputs": []
    },
    {
      "cell_type": "code",
      "metadata": {
        "id": "bGi8KRJ0kiNO",
        "colab_type": "code",
        "colab": {
          "base_uri": "https://localhost:8080/"
        },
        "outputId": "58a6e0c8-d9db-49ce-b2f9-0db20264f2b1"
      },
      "source": [
        "print('x = ', x)\n"
      ],
      "execution_count": null,
      "outputs": [
        {
          "output_type": "stream",
          "text": [
            "x =  5\n"
          ],
          "name": "stdout"
        }
      ]
    },
    {
      "cell_type": "code",
      "metadata": {
        "id": "EZM7Jy_nkixG",
        "colab_type": "code",
        "colab": {}
      },
      "source": [
        "x, y = 2,5\n",
        "y=x #assigning the value of y to x"
      ],
      "execution_count": null,
      "outputs": []
    },
    {
      "cell_type": "code",
      "metadata": {
        "id": "rBugxvYFkpYe",
        "colab_type": "code",
        "colab": {
          "base_uri": "https://localhost:8080/"
        },
        "outputId": "3fb5c879-23db-41bd-eebe-75343de2c7a5"
      },
      "source": [
        "print('y = ', y)"
      ],
      "execution_count": null,
      "outputs": [
        {
          "output_type": "stream",
          "text": [
            "y =  2\n"
          ],
          "name": "stdout"
        }
      ]
    },
    {
      "cell_type": "code",
      "metadata": {
        "id": "1MJ4oJqPkvBG",
        "colab_type": "code",
        "colab": {
          "base_uri": "https://localhost:8080/"
        },
        "outputId": "0d9753a3-46f6-47aa-e74a-41934289f7ea"
      },
      "source": [
        "x=5\n",
        "x+=10 #same thing as x = x+10\n",
        "print('x = ', x)\n",
        "x-=10 #same as x = x - 10"
      ],
      "execution_count": null,
      "outputs": [
        {
          "output_type": "stream",
          "text": [
            "x =  15\n"
          ],
          "name": "stdout"
        }
      ]
    },
    {
      "cell_type": "code",
      "metadata": {
        "id": "EUHvALr8L4aC",
        "colab_type": "code",
        "colab": {}
      },
      "source": [
        ""
      ],
      "execution_count": null,
      "outputs": []
    },
    {
      "cell_type": "markdown",
      "metadata": {
        "id": "95s6TsH2lsOT",
        "colab_type": "text"
      },
      "source": [
        "Strings"
      ]
    },
    {
      "cell_type": "code",
      "metadata": {
        "id": "W57Y8qVylpMN",
        "colab_type": "code",
        "colab": {
          "base_uri": "https://localhost:8080/"
        },
        "outputId": "2f8a0e9b-c72d-4058-9b60-926e2f2efedf"
      },
      "source": [
        "username='Peter'; userspousename='Janet'; userage='30' #declaring string\n",
        "print(username + userspousename) #adding strings by combining them side by side\n",
        "username.upper() #changes all letters to uppercase"
      ],
      "execution_count": null,
      "outputs": [
        {
          "output_type": "stream",
          "text": [
            "PeterJanet\n"
          ],
          "name": "stdout"
        },
        {
          "output_type": "execute_result",
          "data": {
            "application/vnd.google.colaboratory.intrinsic+json": {
              "type": "string"
            },
            "text/plain": [
              "'PETER'"
            ]
          },
          "metadata": {
            "tags": []
          },
          "execution_count": 100
        }
      ]
    },
    {
      "cell_type": "code",
      "metadata": {
        "id": "fVmWJEAcmVMl",
        "colab_type": "code",
        "colab": {
          "base_uri": "https://localhost:8080/"
        },
        "outputId": "09e290d6-8cd0-4390-ae6a-0095f9af6414"
      },
      "source": [
        "brand='Apple'\n",
        "exchangeRate=1.235235245\n",
        "print('the price of this %s laptop is %d USD and the exchange rate is \\\n",
        " %4.2f USD to 1 EUR' % (brand, 1299, exchangeRate))\n",
        " #Format strings using percent sign"
      ],
      "execution_count": null,
      "outputs": [
        {
          "output_type": "stream",
          "text": [
            "the price of this Apple laptop is 1299 USD and the exchange rate is  1.24 USD to 1 EUR\n"
          ],
          "name": "stdout"
        }
      ]
    },
    {
      "cell_type": "code",
      "metadata": {
        "id": "hcakgh36mYxv",
        "colab_type": "code",
        "colab": {
          "base_uri": "https://localhost:8080/"
        },
        "outputId": "470eab6c-6f44-4fed-b471-9ea07a91b32f"
      },
      "source": [
        "print(\"the price of this{0:s} laptop is {1:d} USD and the exchange \\\n",
        "rate is {2:4.2f} USD to 1 EUR\".format('Apple', 1299, 1.235235245) )#format string using format function\n"
      ],
      "execution_count": null,
      "outputs": [
        {
          "output_type": "stream",
          "text": [
            "the price of thisApple laptop is 1299 USD and the exchange rate is 1.24 USD to 1 EUR\n"
          ],
          "name": "stdout"
        }
      ]
    },
    {
      "cell_type": "code",
      "metadata": {
        "id": "uJt293b1EA9k",
        "colab_type": "code",
        "colab": {
          "base_uri": "https://localhost:8080/"
        },
        "outputId": "078d3fc0-2de6-4ade-c7f2-7ff0d8db4b52"
      },
      "source": [
        "# count the entire string\n",
        "'This is a string'.count('s')\n",
        "# count from index 4 to end of string\n",
        "'This is a string'.count('s', 4)\n",
        "# count from index 4 to 10-1\n",
        "'This is a string'.count('s', 4, 10 )\n"
      ],
      "execution_count": null,
      "outputs": [
        {
          "output_type": "execute_result",
          "data": {
            "text/plain": [
              "1"
            ]
          },
          "metadata": {
            "tags": []
          },
          "execution_count": 103
        }
      ]
    },
    {
      "cell_type": "code",
      "metadata": {
        "id": "0dEauy0gERkz",
        "colab_type": "code",
        "colab": {
          "base_uri": "https://localhost:8080/"
        },
        "outputId": "c6ad4a9a-87c7-4027-e193-40b7f06964de"
      },
      "source": [
        "# count ‘T’. There’s only 1 ‘T’ as the function is case sensitive.\n",
        "'This is a string'.count('T')"
      ],
      "execution_count": null,
      "outputs": [
        {
          "output_type": "execute_result",
          "data": {
            "text/plain": [
              "1"
            ]
          },
          "metadata": {
            "tags": []
          },
          "execution_count": 104
        }
      ]
    },
    {
      "cell_type": "code",
      "metadata": {
        "id": "tHBNEyEwEeiV",
        "colab_type": "code",
        "colab": {
          "base_uri": "https://localhost:8080/"
        },
        "outputId": "695300ab-7ec6-4f4c-d691-a24aa197d336"
      },
      "source": [
        "# check from index 2 to 6-1\n",
        "‘Postman’.endswith(‘man’, 2, 6) #check if the substring ends with man\n"
      ],
      "execution_count": null,
      "outputs": [
        {
          "output_type": "error",
          "ename": "SyntaxError",
          "evalue": "ignored",
          "traceback": [
            "\u001b[0;36m  File \u001b[0;32m\"<ipython-input-105-fb7f9f67297f>\"\u001b[0;36m, line \u001b[0;32m2\u001b[0m\n\u001b[0;31m    ‘Postman’.endswith(‘man’, 2, 6) #check if the substring ends with man\u001b[0m\n\u001b[0m            ^\u001b[0m\n\u001b[0;31mSyntaxError\u001b[0m\u001b[0;31m:\u001b[0m invalid character in identifier\n"
          ]
        }
      ]
    },
    {
      "cell_type": "code",
      "metadata": {
        "id": "aXltPG3EEr6o",
        "colab_type": "code",
        "colab": {}
      },
      "source": [
        "'''\n",
        "Return the index in the string where the first occurrence of the\n",
        "substring sub is found.\n",
        "find() returns -1 if sub is not found.\n",
        "index() returns ValueError is sub is not found.\n",
        "This function is case-sensitive.\n",
        "'''\n",
        "'This is a string'.find('s')\n",
        "'This is a string'.find('s', 7,11 )"
      ],
      "execution_count": null,
      "outputs": []
    },
    {
      "cell_type": "code",
      "metadata": {
        "id": "QlrURf8rE65l",
        "colab_type": "code",
        "colab": {
          "base_uri": "https://localhost:8080/"
        },
        "outputId": "a3ab1854-491f-4b5f-98a8-5f1d823c5cae"
      },
      "source": [
        "'''\n",
        "Return true if all characters in the string are alphanumeric and there\n",
        "is at least one character, false otherwise.\n",
        "Alphanumeric does not include whitespaces.\n",
        "'''\n",
        "'abcd1234'.isalnum()"
      ],
      "execution_count": null,
      "outputs": [
        {
          "output_type": "execute_result",
          "data": {
            "text/plain": [
              "True"
            ]
          },
          "metadata": {
            "tags": []
          },
          "execution_count": 106
        }
      ]
    },
    {
      "cell_type": "code",
      "metadata": {
        "id": "woIfLdboFLKy",
        "colab_type": "code",
        "colab": {
          "base_uri": "https://localhost:8080/"
        },
        "outputId": "dc4626f6-2a70-4d6d-8e1d-d97576b1f8c3"
      },
      "source": [
        "'''\n",
        "Return true if all characters in the string are alphabetic and there is\n",
        "at least one character, false otherwise.\n",
        "'''\n",
        "'abcd'.isalpha()"
      ],
      "execution_count": null,
      "outputs": [
        {
          "output_type": "execute_result",
          "data": {
            "text/plain": [
              "True"
            ]
          },
          "metadata": {
            "tags": []
          },
          "execution_count": 107
        }
      ]
    },
    {
      "cell_type": "code",
      "metadata": {
        "id": "-9A6BiexFaAf",
        "colab_type": "code",
        "colab": {
          "base_uri": "https://localhost:8080/"
        },
        "outputId": "58d474ce-a48a-4e42-be92-fce793f46802"
      },
      "source": [
        "'''\n",
        "Return true if all characters in the string are digits and there is at\n",
        "least one character, false otherwise.\n",
        "'''\n",
        "'1234'.isdigit()\n",
        "'abcd1234'.isdigit()\n"
      ],
      "execution_count": null,
      "outputs": [
        {
          "output_type": "execute_result",
          "data": {
            "text/plain": [
              "False"
            ]
          },
          "metadata": {
            "tags": []
          },
          "execution_count": 108
        }
      ]
    },
    {
      "cell_type": "code",
      "metadata": {
        "id": "yAlIES2YFnhw",
        "colab_type": "code",
        "colab": {
          "base_uri": "https://localhost:8080/"
        },
        "outputId": "2a3a7270-90f7-4f0b-f929-5cbf233f6229"
      },
      "source": [
        "'''\n",
        "Return true if all cased characters in the string are lowercase and\n",
        "there is at least one cased character, false otherwise\n",
        "'''\n",
        "'abcd'.islower()\n",
        "'Abcd'.islower()"
      ],
      "execution_count": null,
      "outputs": [
        {
          "output_type": "execute_result",
          "data": {
            "text/plain": [
              "False"
            ]
          },
          "metadata": {
            "tags": []
          },
          "execution_count": 109
        }
      ]
    },
    {
      "cell_type": "code",
      "metadata": {
        "id": "Sup0LqIVFzQo",
        "colab_type": "code",
        "colab": {
          "base_uri": "https://localhost:8080/"
        },
        "outputId": "5cdc30c2-a611-4f40-928c-da88f6cb4f81"
      },
      "source": [
        "'''\n",
        "Return true if there are only whitespace characters in the string and\n",
        "there is at least one character, false otherwise.\n",
        "'''\n",
        "' '.isspace()"
      ],
      "execution_count": null,
      "outputs": [
        {
          "output_type": "execute_result",
          "data": {
            "text/plain": [
              "True"
            ]
          },
          "metadata": {
            "tags": []
          },
          "execution_count": 110
        }
      ]
    },
    {
      "cell_type": "code",
      "metadata": {
        "id": "493CbK-IGBr3",
        "colab_type": "code",
        "colab": {
          "base_uri": "https://localhost:8080/"
        },
        "outputId": "e4c61c6c-d67e-426e-e130-100d539c4203"
      },
      "source": [
        "'''\n",
        "Return true if the string is a titlecased string and there is at least one\n",
        "character\n",
        "'''\n",
        "'This Is A String'.istitle()"
      ],
      "execution_count": null,
      "outputs": [
        {
          "output_type": "execute_result",
          "data": {
            "text/plain": [
              "True"
            ]
          },
          "metadata": {
            "tags": []
          },
          "execution_count": 111
        }
      ]
    },
    {
      "cell_type": "code",
      "metadata": {
        "id": "21dJx6NcGRCI",
        "colab_type": "code",
        "colab": {
          "base_uri": "https://localhost:8080/"
        },
        "outputId": "36251c4c-2a1b-442b-82dd-bcac90da6c06"
      },
      "source": [
        "'''\n",
        "Return true if all cased characters in the string are uppercase and\n",
        "there is at least one cased character, false otherwise.\n",
        "'''\n",
        "'ABCD'.isupper()"
      ],
      "execution_count": null,
      "outputs": [
        {
          "output_type": "execute_result",
          "data": {
            "text/plain": [
              "True"
            ]
          },
          "metadata": {
            "tags": []
          },
          "execution_count": 112
        }
      ]
    },
    {
      "cell_type": "code",
      "metadata": {
        "id": "VXcrqWuLGY3J",
        "colab_type": "code",
        "colab": {
          "base_uri": "https://localhost:8080/"
        },
        "outputId": "88df302e-d2a1-49d5-9384-20d4e902da17"
      },
      "source": [
        "'''\n",
        "Return a string in which the parameter provided is joined by a\n",
        "separator.\n",
        "'''\n",
        "sep = '-' \n",
        "myTuple = ('a', 'b', 'c')\n",
        "myList = ['d', 'e', 'f']\n",
        "myString = 'Hello World'\n",
        "sep.join(myTuple)"
      ],
      "execution_count": null,
      "outputs": [
        {
          "output_type": "execute_result",
          "data": {
            "application/vnd.google.colaboratory.intrinsic+json": {
              "type": "string"
            },
            "text/plain": [
              "'a-b-c'"
            ]
          },
          "metadata": {
            "tags": []
          },
          "execution_count": 113
        }
      ]
    },
    {
      "cell_type": "code",
      "metadata": {
        "id": "XRbdlJmsGrIE",
        "colab_type": "code",
        "colab": {
          "base_uri": "https://localhost:8080/"
        },
        "outputId": "f9bc431e-e318-4c65-95dd-ed66c7ab0167"
      },
      "source": [
        "'''\n",
        "Return a copy of the string converted to lowercase.\n",
        "'''\n",
        "'Hello Python'.lower()"
      ],
      "execution_count": null,
      "outputs": [
        {
          "output_type": "execute_result",
          "data": {
            "application/vnd.google.colaboratory.intrinsic+json": {
              "type": "string"
            },
            "text/plain": [
              "'hello python'"
            ]
          },
          "metadata": {
            "tags": []
          },
          "execution_count": 114
        }
      ]
    },
    {
      "cell_type": "code",
      "metadata": {
        "id": "mNB3jHD-G0Zr",
        "colab_type": "code",
        "colab": {
          "base_uri": "https://localhost:8080/"
        },
        "outputId": "dc83276c-d5f8-410f-d36f-ce0125acc40e"
      },
      "source": [
        "'''\n",
        "Return a copy of the string with all occurrences of substring old\n",
        "replaced by new.\n",
        "count is optional. If given, only the first count occurrences are\n",
        "replaced.\n",
        "This function is case-sensitive.\n",
        "'''\n",
        "'This is a string'.replace('s', 'p')\n",
        "# Replace first 2 occurences\n",
        "'This is a string'.replace('s', 'p', 2)"
      ],
      "execution_count": null,
      "outputs": [
        {
          "output_type": "execute_result",
          "data": {
            "application/vnd.google.colaboratory.intrinsic+json": {
              "type": "string"
            },
            "text/plain": [
              "'Thip ip a string'"
            ]
          },
          "metadata": {
            "tags": []
          },
          "execution_count": 115
        }
      ]
    },
    {
      "cell_type": "code",
      "metadata": {
        "id": "B8tbVoK5HKPZ",
        "colab_type": "code",
        "colab": {
          "base_uri": "https://localhost:8080/"
        },
        "outputId": "f50b3956-4cca-43e0-e452-fe8acb07f78f"
      },
      "source": [
        "'''\n",
        "Return a list of the words in the string, using sep as the delimiter\n",
        "string.\n",
        "sep and maxsplit are optional.\n",
        "If sep is not given, whitespace is used as the delimiter.\n",
        "If maxsplit is given, at most maxsplit splits are done.\n",
        "This function is case-sensitive.\n",
        "'''\n",
        "'This, is, a, string'.split(',')"
      ],
      "execution_count": null,
      "outputs": [
        {
          "output_type": "execute_result",
          "data": {
            "text/plain": [
              "['This', ' is', ' a', ' string']"
            ]
          },
          "metadata": {
            "tags": []
          },
          "execution_count": 116
        }
      ]
    },
    {
      "cell_type": "code",
      "metadata": {
        "id": "__dcgez1Hd2L",
        "colab_type": "code",
        "colab": {
          "base_uri": "https://localhost:8080/"
        },
        "outputId": "970be08a-734e-4b75-b0d4-b6bed3def3ec"
      },
      "source": [
        "'''\n",
        "Return a list of the lines in the string, breaking at line boundaries.\n",
        "Line breaks are not included in the resulting list unless keepends is\n",
        "given and true.\n",
        "'''\n",
        "'This is the first line.\\nThis is the secondline'.splitlines()"
      ],
      "execution_count": null,
      "outputs": [
        {
          "output_type": "execute_result",
          "data": {
            "text/plain": [
              "['This is the first line.', 'This is the secondline']"
            ]
          },
          "metadata": {
            "tags": []
          },
          "execution_count": 117
        }
      ]
    },
    {
      "cell_type": "code",
      "metadata": {
        "id": "_VK4CmcOHwxV",
        "colab_type": "code",
        "colab": {
          "base_uri": "https://localhost:8080/"
        },
        "outputId": "9fff2f4c-b21a-479b-a77a-4663f1ba19e6"
      },
      "source": [
        "'''\n",
        "Return True if string starts with the prefix, otherwise return False.\n",
        "prefix can also be a tuple of prefixes to look for.\n",
        "This function is case-sensitive.\n",
        "'''\n",
        "'Postman'.startswith('Post')"
      ],
      "execution_count": null,
      "outputs": [
        {
          "output_type": "execute_result",
          "data": {
            "text/plain": [
              "True"
            ]
          },
          "metadata": {
            "tags": []
          },
          "execution_count": 118
        }
      ]
    },
    {
      "cell_type": "code",
      "metadata": {
        "id": "t9fdYvalH4uI",
        "colab_type": "code",
        "colab": {
          "base_uri": "https://localhost:8080/"
        },
        "outputId": "6ea64e5c-a2ee-4ba9-b7f2-110d51cef1e1"
      },
      "source": [
        "'''\n",
        "Return a copy of the string with the leading and trailing characters\n",
        "char removed.\n",
        "If char is not provided, whitespaces will be removed.\n",
        "This function is case-sensitive.\n",
        "'''\n",
        "' This is a string '.strip()"
      ],
      "execution_count": null,
      "outputs": [
        {
          "output_type": "execute_result",
          "data": {
            "application/vnd.google.colaboratory.intrinsic+json": {
              "type": "string"
            },
            "text/plain": [
              "'This is a string'"
            ]
          },
          "metadata": {
            "tags": []
          },
          "execution_count": 119
        }
      ]
    },
    {
      "cell_type": "code",
      "metadata": {
        "id": "DoFP5PqEIE05",
        "colab_type": "code",
        "colab": {
          "base_uri": "https://localhost:8080/"
        },
        "outputId": "127306ff-fc40-4d59-d636-8924dfeaf3fc"
      },
      "source": [
        "'Hello Python'.upper() #Return a copy of the string converted to uppercase"
      ],
      "execution_count": null,
      "outputs": [
        {
          "output_type": "execute_result",
          "data": {
            "application/vnd.google.colaboratory.intrinsic+json": {
              "type": "string"
            },
            "text/plain": [
              "'HELLO PYTHON'"
            ]
          },
          "metadata": {
            "tags": []
          },
          "execution_count": 120
        }
      ]
    },
    {
      "cell_type": "markdown",
      "metadata": {
        "id": "AcFJSvZWnRj0",
        "colab_type": "text"
      },
      "source": [
        "Typecasting"
      ]
    },
    {
      "cell_type": "code",
      "metadata": {
        "id": "_2jgrEVpmvBs",
        "colab_type": "code",
        "colab": {
          "base_uri": "https://localhost:8080/"
        },
        "outputId": "6d41c4b1-fb56-4325-9890-b91feeb54a5e"
      },
      "source": [
        "print(int(5.5)) #change float to integer by removing decimal places\n",
        "print(int(\"5\")) #change string to int\n",
        "print(float(\"5.5789\")) #change string to float\n",
        "print(str(2.1)) #change float to string. can also be done with int."
      ],
      "execution_count": null,
      "outputs": [
        {
          "output_type": "stream",
          "text": [
            "5\n",
            "5\n",
            "5.5789\n",
            "2.1\n"
          ],
          "name": "stdout"
        }
      ]
    },
    {
      "cell_type": "code",
      "metadata": {
        "id": "bXosYf99L7TV",
        "colab_type": "code",
        "colab": {
          "base_uri": "https://localhost:8080/"
        },
        "outputId": "02db2d4d-a5f8-4abf-ae99-98d66c5d9acf"
      },
      "source": [
        "x = 0.5\n",
        "type(x) #returns type of x\n",
        "round(x, 2) #rounds to 2 decimals"
      ],
      "execution_count": null,
      "outputs": [
        {
          "output_type": "execute_result",
          "data": {
            "text/plain": [
              "0.5"
            ]
          },
          "metadata": {
            "tags": []
          },
          "execution_count": 122
        }
      ]
    },
    {
      "cell_type": "code",
      "metadata": {
        "id": "SlOdgdl0MJsB",
        "colab_type": "code",
        "colab": {
          "base_uri": "https://localhost:8080/"
        },
        "outputId": "c6c92f7e-e385-449a-a655-a508615293b4"
      },
      "source": [
        "z = 2+3j #complex number\n",
        "type(z)\n",
        "abs(z) #modulus"
      ],
      "execution_count": null,
      "outputs": [
        {
          "output_type": "execute_result",
          "data": {
            "text/plain": [
              "3.605551275463989"
            ]
          },
          "metadata": {
            "tags": []
          },
          "execution_count": 123
        }
      ]
    },
    {
      "cell_type": "markdown",
      "metadata": {
        "id": "_RFI3r4Vn_kP",
        "colab_type": "text"
      },
      "source": [
        "Other Data Types"
      ]
    },
    {
      "cell_type": "markdown",
      "metadata": {
        "id": "etQ_yUh9qhWG",
        "colab_type": "text"
      },
      "source": [
        "Lists\n"
      ]
    },
    {
      "cell_type": "code",
      "metadata": {
        "id": "_Zm7XeZAn-jB",
        "colab_type": "code",
        "colab": {
          "base_uri": "https://localhost:8080/"
        },
        "outputId": "f40f709b-a34b-41c4-ac84-ec0466eea06c"
      },
      "source": [
        "listname = [] #declare empty string\n",
        "listname = [21, 22, 23] #declare string\n",
        "print(listname[0]) #access first element\n",
        "print(listname[-1]) #access last element"
      ],
      "execution_count": null,
      "outputs": [
        {
          "output_type": "stream",
          "text": [
            "21\n",
            "23\n"
          ],
          "name": "stdout"
        }
      ]
    },
    {
      "cell_type": "code",
      "metadata": {
        "id": "6DwuZHCQopwV",
        "colab_type": "code",
        "colab": {
          "base_uri": "https://localhost:8080/"
        },
        "outputId": "63cf135e-f2f0-4ad6-98b5-cc8772a8ec26"
      },
      "source": [
        "listname2 = listname #copy list\n",
        "listname3 = listname2[1:3] #slices list and assigns new list the indexes 1 through 3 - 1\n",
        "print(listname3)\n",
        "list1 = [1,2,3,4,5]\n",
        "list2 = list1[1:5:2] #slice appends every 2 numbers\n",
        "print(list2)"
      ],
      "execution_count": null,
      "outputs": [
        {
          "output_type": "stream",
          "text": [
            "[22, 23]\n",
            "[2, 4]\n"
          ],
          "name": "stdout"
        }
      ]
    },
    {
      "cell_type": "code",
      "metadata": {
        "id": "18e9W8QGp2lv",
        "colab_type": "code",
        "colab": {
          "base_uri": "https://localhost:8080/"
        },
        "outputId": "8c7857d8-6fe1-4fc2-b2e7-85915cae44e4"
      },
      "source": [
        "list2.append(5) #appends to end of string\n",
        "print(list2)\n",
        "del list2[2] #deletes item with index 2 from list\n",
        "print(list2)\n",
        "list2[0] = 9 #modifies index 0\n",
        "print(list2)"
      ],
      "execution_count": null,
      "outputs": [
        {
          "output_type": "stream",
          "text": [
            "[2, 4, 5]\n",
            "[2, 4]\n",
            "[9, 4]\n"
          ],
          "name": "stdout"
        }
      ]
    },
    {
      "cell_type": "code",
      "metadata": {
        "id": "_oTX-1qCITD7",
        "colab_type": "code",
        "colab": {
          "base_uri": "https://localhost:8080/"
        },
        "outputId": "dcace9a3-9c4d-4869-dde2-1541d34f301d"
      },
      "source": [
        "myList = ['a', 'b', 'c', 'd', 'e'] #Combine two lists\n",
        "myList.insert(1, ‘Hi’) #inserts item into a postion\n",
        "myList2 = [1, 2, 3, 4]\n",
        "myList.extend(myList2) #\n",
        "member = myList.pop(2)\n",
        "print (member)\n",
        "‘c’ in myList #checks if item in list\n",
        "\n",
        "print (myList)\n",
        "myList.reverse() #reverses list\n"
      ],
      "execution_count": null,
      "outputs": [
        {
          "output_type": "error",
          "ename": "SyntaxError",
          "evalue": "ignored",
          "traceback": [
            "\u001b[0;36m  File \u001b[0;32m\"<ipython-input-127-3d6f496ac283>\"\u001b[0;36m, line \u001b[0;32m2\u001b[0m\n\u001b[0;31m    myList.insert(1, ‘Hi’) #inserts item into a postion\u001b[0m\n\u001b[0m                        ^\u001b[0m\n\u001b[0;31mSyntaxError\u001b[0m\u001b[0;31m:\u001b[0m invalid character in identifier\n"
          ]
        }
      ]
    },
    {
      "cell_type": "code",
      "metadata": {
        "id": "X_AQVg--I6zO",
        "colab_type": "code",
        "colab": {}
      },
      "source": [
        "myList = [3, 0, -1, 4, 6] \n",
        "myList2 = sorted(myList) #returns sorted list wihtout changing contents\n",
        "myList.sort() #sorts numerically\n",
        "print(myList)"
      ],
      "execution_count": null,
      "outputs": []
    },
    {
      "cell_type": "code",
      "metadata": {
        "id": "NPKLaFJeJGjr",
        "colab_type": "code",
        "colab": {}
      },
      "source": [
        "myList = ['a', 'b', 'c', 'd']\n",
        "print (myList + ['e', 'f']) #Concatenate List\n",
        "print (myList*3) #repeats list"
      ],
      "execution_count": null,
      "outputs": []
    },
    {
      "cell_type": "markdown",
      "metadata": {
        "id": "53_Htuxnqkrr",
        "colab_type": "text"
      },
      "source": [
        "Tuples"
      ]
    },
    {
      "cell_type": "code",
      "metadata": {
        "id": "BM8Ht_psqn7s",
        "colab_type": "code",
        "colab": {}
      },
      "source": [
        "monthsOfYear = (\"Jan\", \"Feb\", \"Mar\", \"Apr\", \"May\", \"Jun\", \"Jul\", \"Aug\", \"Sep\", \"Oct\", \"Nov\", \"Dec\") #declare tuple by using parentheses"
      ],
      "execution_count": null,
      "outputs": []
    },
    {
      "cell_type": "code",
      "metadata": {
        "id": "x2VWJ4pWrIh_",
        "colab_type": "code",
        "colab": {}
      },
      "source": [
        "print(monthsOfYear[0])\n",
        "print(monthsOfYear[-1]) #access tuple by index\n",
        "'Jan' in monthsOfYear #check if item is in tuple\n",
        "print(len(monthsOfYear)) #returns length of tuple\n",
        "print(monthsOfYear*3) #repeats tuple 3 times\n",
        "del monthsOfYear #deletes tuple"
      ],
      "execution_count": null,
      "outputs": []
    },
    {
      "cell_type": "markdown",
      "metadata": {
        "id": "KJ3Tt48drYvN",
        "colab_type": "text"
      },
      "source": [
        "Dictionary"
      ]
    },
    {
      "cell_type": "code",
      "metadata": {
        "id": "S0IcsCRKroxe",
        "colab_type": "code",
        "colab": {}
      },
      "source": [
        "emptyDic = {} #declares empty dictionary\n",
        "userNameAndAge= {\"Peter\":38, \"John\":51, \"Alex\":13, \"Alvin\": \"Not Available\"} #initializes dictionary\n",
        "userNameAndAge= dict(Peter=38, John=51, Alex=13, Alvin='not available') #initializes dictionart using dict() function\n",
        "userNameAndAge[\"John\"] #accesses index\n"
      ],
      "execution_count": null,
      "outputs": []
    },
    {
      "cell_type": "code",
      "metadata": {
        "id": "N1KEcBJMsosv",
        "colab_type": "code",
        "colab": {}
      },
      "source": [
        "userNameAndAge[\"John\"] = 21 #change john\n",
        "userNameAndAge[\"John\"]\n",
        "userNameAndAge[\"Lucas\"] = 55 #appends new item called lucas with value 55\n",
        "print(userNameAndAge[\"Lucas\"])\n",
        "userNameAndAge.get(\"John\") #returns value for key\n",
        "1 in userNameAndAge #check if value is in dictionary\n",
        "userNameAndAge.clear() #clears dictionary\n",
        "userNameAndAge.items() #returns pairs as tuples\n",
        "userNameAndAge.keys() #returns list of keys\n",
        "print(len(userNameAndAge)) #return length\n",
        "userNameAndAge.values() #return list of values\n",
        "userNameAndAge.clear() #clears dictionary\n",
        "del userNameAndAge[\"Lucas\"] #deletes dictionary"
      ],
      "execution_count": null,
      "outputs": []
    },
    {
      "cell_type": "markdown",
      "metadata": {
        "id": "PRP8HRNvuE_M",
        "colab_type": "text"
      },
      "source": [
        "Inputs and Interaction\n"
      ]
    },
    {
      "cell_type": "code",
      "metadata": {
        "id": "TIcxhbQ6uK2M",
        "colab_type": "code",
        "colab": {}
      },
      "source": [
        "myname=input('please enter your name: ')#prompts user for input\n",
        "myage=input('what about your age: ')\n",
        "print ('hello world, my name is', myname, 'and i am', myage, 'years old.') #prints with variables"
      ],
      "execution_count": null,
      "outputs": []
    },
    {
      "cell_type": "markdown",
      "metadata": {
        "id": "NUApo2Fmuyjf",
        "colab_type": "text"
      },
      "source": [
        "Print formating"
      ]
    },
    {
      "cell_type": "code",
      "metadata": {
        "id": "_7_YOXIBu-_m",
        "colab_type": "code",
        "colab": {}
      },
      "source": [
        "print('''Hello World \n",
        "My name is Lucas and \n",
        "I am 20 years old.''') #print multiple lines\n",
        "print('Hello\\tWorld') #tab character\n",
        "print('Hello\\nWorld') #newline\n",
        "print('\\\\') #backslash\n",
        "print(\"I am 5'9\\\" tall\") #prints quote\n",
        "print(r'Hello\\nWorld') #prints raw input"
      ],
      "execution_count": null,
      "outputs": []
    },
    {
      "cell_type": "markdown",
      "metadata": {
        "id": "QMBNvL_BvvF2",
        "colab_type": "text"
      },
      "source": [
        "Conditions"
      ]
    },
    {
      "cell_type": "code",
      "metadata": {
        "id": "-PaRrjH4vsaY",
        "colab_type": "code",
        "colab": {}
      },
      "source": [
        "5!=2 #not equal to condition\n",
        "\n",
        "\n",
        "\n",
        "\n",
        "\n"
      ],
      "execution_count": null,
      "outputs": []
    },
    {
      "cell_type": "code",
      "metadata": {
        "id": "VZPZ90lsxNMd",
        "colab_type": "code",
        "colab": {}
      },
      "source": [
        "5>2"
      ],
      "execution_count": null,
      "outputs": []
    },
    {
      "cell_type": "code",
      "metadata": {
        "id": "HcjTkbLJxLhp",
        "colab_type": "code",
        "colab": {}
      },
      "source": [
        "2<5"
      ],
      "execution_count": null,
      "outputs": []
    },
    {
      "cell_type": "code",
      "metadata": {
        "id": "NP2XExXxxKSd",
        "colab_type": "code",
        "colab": {}
      },
      "source": [
        "5>=2"
      ],
      "execution_count": null,
      "outputs": []
    },
    {
      "cell_type": "code",
      "metadata": {
        "id": "UxXP84MTxIQb",
        "colab_type": "code",
        "colab": {}
      },
      "source": [
        "5>=5 #other conditions"
      ],
      "execution_count": null,
      "outputs": []
    },
    {
      "cell_type": "code",
      "metadata": {
        "id": "UewlOCdwxFjD",
        "colab_type": "code",
        "colab": {
          "base_uri": "https://localhost:8080/",
          "height": 34
        },
        "outputId": "1223eb19-add2-4719-9804-02f4942e37d3"
      },
      "source": [
        "5 == 5 #boolean comparison"
      ],
      "execution_count": 128,
      "outputs": [
        {
          "output_type": "execute_result",
          "data": {
            "text/plain": [
              "True"
            ]
          },
          "metadata": {
            "tags": []
          },
          "execution_count": 128
        }
      ]
    },
    {
      "cell_type": "code",
      "metadata": {
        "id": "LPj0mxzNxBen",
        "colab_type": "code",
        "colab": {
          "base_uri": "https://localhost:8080/",
          "height": 34
        },
        "outputId": "a67eaff7-9dd0-418a-c3bc-1b069ac19c22"
      },
      "source": [
        "x= 5\n",
        "x == 5 or x == 6 #or logic operator\n"
      ],
      "execution_count": 129,
      "outputs": [
        {
          "output_type": "execute_result",
          "data": {
            "text/plain": [
              "True"
            ]
          },
          "metadata": {
            "tags": []
          },
          "execution_count": 129
        }
      ]
    },
    {
      "cell_type": "code",
      "metadata": {
        "id": "wx11P0iMxCxe",
        "colab_type": "code",
        "colab": {
          "base_uri": "https://localhost:8080/",
          "height": 34
        },
        "outputId": "38e0bd72-4d3c-4097-bc90-9a93516e6f80"
      },
      "source": [
        "x== 5 and x ==6"
      ],
      "execution_count": 130,
      "outputs": [
        {
          "output_type": "execute_result",
          "data": {
            "text/plain": [
              "False"
            ]
          },
          "metadata": {
            "tags": []
          },
          "execution_count": 130
        }
      ]
    },
    {
      "cell_type": "markdown",
      "metadata": {
        "id": "iuOGZn8DxUWW",
        "colab_type": "text"
      },
      "source": [
        "if and other statements"
      ]
    },
    {
      "cell_type": "code",
      "metadata": {
        "id": "FqBhrgjkwP99",
        "colab_type": "code",
        "colab": {}
      },
      "source": [
        "userinput=input('enter 1 or 2: ')\n",
        "if userinput=='1':  #if and elif statements\n",
        "  print('Hello World')\n",
        "elif userinput=='2':\n",
        "  print('Python ROcks')\n",
        "else: \n",
        "  print('you did not enter a valid number')"
      ],
      "execution_count": null,
      "outputs": []
    },
    {
      "cell_type": "code",
      "metadata": {
        "id": "WL5PBNDTxZ3o",
        "colab_type": "code",
        "colab": {}
      },
      "source": [
        "myint=10\n",
        "num1 = 12 if myint==10 else 13\n",
        "print(num1) #inline if"
      ],
      "execution_count": null,
      "outputs": []
    },
    {
      "cell_type": "code",
      "metadata": {
        "id": "y10xYfoFymYP",
        "colab_type": "code",
        "colab": {}
      },
      "source": [
        "Loops"
      ],
      "execution_count": null,
      "outputs": []
    },
    {
      "cell_type": "code",
      "metadata": {
        "id": "NRL_3qCTxnnc",
        "colab_type": "code",
        "colab": {}
      },
      "source": [
        "message = 'Hello'\n",
        "for i in message: #for loop iterates through parameter until condition is not met anymore\n",
        "  print(i)"
      ],
      "execution_count": null,
      "outputs": []
    },
    {
      "cell_type": "code",
      "metadata": {
        "id": "Puz6oK-rx3A7",
        "colab_type": "code",
        "colab": {}
      },
      "source": [
        "for a in range(5): #iterating over range of an int\n",
        "  print (a) #iterates through a list of numbers up to 5"
      ],
      "execution_count": null,
      "outputs": []
    },
    {
      "cell_type": "code",
      "metadata": {
        "id": "PLj97W6XyO8g",
        "colab_type": "code",
        "colab": {}
      },
      "source": [
        "pets=['cats','dogs','rabbits','hamsters']\n",
        "for index, mypets in enumerate(pets): #print iteration and index while enumarating through list\n",
        "  print(index, mypets)"
      ],
      "execution_count": null,
      "outputs": []
    },
    {
      "cell_type": "code",
      "metadata": {
        "id": "1GORj0qCyn1D",
        "colab_type": "code",
        "colab": {}
      },
      "source": [
        "counter=5\n",
        "while counter>0:\n",
        "  print('counter = ', counter)\n",
        "  counter-=1 #while condition is met, keep looping"
      ],
      "execution_count": null,
      "outputs": []
    },
    {
      "cell_type": "code",
      "metadata": {
        "id": "2FgMM92ZygF2",
        "colab_type": "code",
        "colab": {}
      },
      "source": [
        "j=0\n",
        "for i in range(5):\n",
        "  j+=2\n",
        "  print('i = ', i, ', j = ', j)\n",
        "  if j==6:\n",
        "    break #stops loop before completion"
      ],
      "execution_count": null,
      "outputs": []
    },
    {
      "cell_type": "code",
      "metadata": {
        "id": "zBMbJ78zzCyL",
        "colab_type": "code",
        "colab": {}
      },
      "source": [
        "j=0 \n",
        "for i in range(5):\n",
        "  j+=2\n",
        "  print('\\ni = ', i, ', j = ', j)\n",
        "  if j==6:\n",
        "    continue #skips this iteration\n",
        "  print('i will be skipped over if j=6')"
      ],
      "execution_count": null,
      "outputs": []
    },
    {
      "cell_type": "code",
      "metadata": {
        "id": "sV8ZVNRwzPMU",
        "colab_type": "code",
        "colab": {}
      },
      "source": [
        "try: #if an error is obtained, perform except\n",
        "  answer=12/0\n",
        "  print(answer)\n",
        "except:\n",
        "  print('an error occurred')"
      ],
      "execution_count": null,
      "outputs": []
    },
    {
      "cell_type": "code",
      "metadata": {
        "id": "guRsriO2zlRr",
        "colab_type": "code",
        "colab": {}
      },
      "source": [
        "'''\n",
        " ValueError is raised when a built-in\n",
        "operation or function receives a parameter that has the right type but\n",
        "an inappropriate value. ZeroDivisionError is raised when the\n",
        "program tries to divide by zero. Other common errors in Python\n",
        "include\n",
        "IOError:\n",
        "Raised when an I/O operation (such as the built-in open() function)\n",
        "fails for an I/O-related reason, e.g., “file not found”.\n",
        "ImportError:\n",
        "Raised when an import statement fails to find the module definition\n",
        "IndexError:\n",
        "Raised when a sequence (e.g. string, list, tuple) index is out of\n",
        "range.\n",
        "KeyError:\n",
        "Raised when a dictionary key is not found.\n",
        "NameError:\n",
        "Raised when a local or global name is not found.\n",
        "TypeError:\n",
        "Raised when an operation or function is applied to an object of\n",
        "inappropriate type. \n",
        "More errors https://docs.python.org/3/library/exceptions.html\n",
        "'''"
      ],
      "execution_count": null,
      "outputs": []
    },
    {
      "cell_type": "markdown",
      "metadata": {
        "id": "2qw1TZJOzxID",
        "colab_type": "text"
      },
      "source": [
        "Functions"
      ]
    },
    {
      "cell_type": "code",
      "metadata": {
        "id": "1sHbecrVzrP8",
        "colab_type": "code",
        "colab": {}
      },
      "source": [
        "'hello world'.replace('world', 'universe') #replace function is an example of function"
      ],
      "execution_count": null,
      "outputs": []
    },
    {
      "cell_type": "code",
      "metadata": {
        "id": "gkGxlekvz-Vm",
        "colab_type": "code",
        "colab": {}
      },
      "source": [
        "def checkIfPrime (numberToCheck): #defines function with paremeter input\n",
        "for x in range(2, numberToCheck):\n",
        " if (numberToCheck%x == 0):\n",
        " return False #return when function is over\n",
        "return True"
      ],
      "execution_count": null,
      "outputs": []
    },
    {
      "cell_type": "code",
      "metadata": {
        "id": "XT44t7Mw0RG9",
        "colab_type": "code",
        "colab": {}
      },
      "source": [
        "print(checkIfPrime(13))"
      ],
      "execution_count": null,
      "outputs": []
    },
    {
      "cell_type": "markdown",
      "metadata": {
        "id": "xueioPjz0XQQ",
        "colab_type": "text"
      },
      "source": [
        "Variable scope"
      ]
    },
    {
      "cell_type": "code",
      "metadata": {
        "id": "xLhsjkCm0Sqk",
        "colab_type": "code",
        "colab": {}
      },
      "source": [
        "message1 = \"Global Variable\"\n",
        "def myFunction(): \n",
        "  print('\\nINSIDE THE FUNCTION')\n",
        "#Global variables are accessible inside a function\n",
        "  print (message1)\n",
        "#Declaring a local variable\n",
        "  message2 = 'Local Variable'\n",
        "  print (message2)\n",
        "#Calling the function\n",
        "myFunction()\n",
        "print('\\nOUTSIDE THE FUNCTION')\n",
        "#Global variables are accessible outside function\n",
        "print (message1)\n",
        "#Local variables are NOT accessible outside function.\n",
        "print (message2)"
      ],
      "execution_count": null,
      "outputs": []
    },
    {
      "cell_type": "markdown",
      "metadata": {
        "id": "BgFGt85zAq2q",
        "colab_type": "text"
      },
      "source": [
        "Importing Modules"
      ]
    },
    {
      "cell_type": "code",
      "metadata": {
        "id": "dSTFwEZfACl7",
        "colab_type": "code",
        "colab": {}
      },
      "source": [
        "import random #import whole library\n",
        "from random import randrange, randint #import specific functions\n",
        "randrange(1, 10)"
      ],
      "execution_count": null,
      "outputs": []
    },
    {
      "cell_type": "code",
      "metadata": {
        "id": "AKRpcfZABM-5",
        "colab_type": "code",
        "colab": {}
      },
      "source": [
        "import sys\n",
        "if 'C:\\\\MyPythonModules' not in sys.path:\n",
        " sys.path.append('C:\\\\MyPythonModules') #navigate import folder to sys path"
      ],
      "execution_count": null,
      "outputs": []
    },
    {
      "cell_type": "markdown",
      "metadata": {
        "id": "dKq40rM4BkVY",
        "colab_type": "text"
      },
      "source": [
        "Opening and reading text files"
      ]
    },
    {
      "cell_type": "code",
      "metadata": {
        "id": "1s8TUmjCCTBC",
        "colab_type": "code",
        "colab": {}
      },
      "source": [
        "f = open ('myfile.txt', 'r') #open file from desktop\n",
        "firstline = f.readline() #reads first line\n",
        "secondline = f.readline()\n",
        "print (firstline)\n",
        "print (secondline)\n",
        "for line in f:\n",
        "print (line, end = '') #reads each line with a for loop\n",
        "\n",
        "f.close() #closes file\n",
        "'''\n",
        "'r' mode:\n",
        "For reading only.\n",
        "'w' mode:\n",
        "For writing only.\n",
        "If the specified file does not exist, it will be created.\n",
        "If the specified file exists, any existing data on the file will be erased.\n",
        "'a' mode:\n",
        "For appending.\n",
        "If the specified file does not exist, it will be created.\n",
        "If the specified file exist, any data written to the file is automatically\n",
        "added to the end\n",
        "'r+' mode:\n",
        "For both reading and writing.\n",
        "'''\n"
      ],
      "execution_count": null,
      "outputs": []
    },
    {
      "cell_type": "code",
      "metadata": {
        "id": "va2aNIGQCa8a",
        "colab_type": "code",
        "colab": {}
      },
      "source": [
        "f = open (‘myfile.txt’, 'a')\n",
        "f.write(‘\\nThis sentence will be appended.’) #writes to a text file\n",
        "f.write(‘\\nPython is Fun!’)\n",
        "f.close()"
      ],
      "execution_count": null,
      "outputs": []
    },
    {
      "cell_type": "code",
      "metadata": {
        "id": "zoZ2EZ_CC8mz",
        "colab_type": "code",
        "colab": {}
      },
      "source": [
        "inputFile = open (‘myfile.txt’, 'r')\n",
        "outputFile = open (‘myoutputfile.txt’, 'w')\n",
        "msg = inputFile.read(10) \n",
        "while len(msg): #if length is not 0 it runs\n",
        " outputFile.write(msg) \n",
        " msg = inputFile.read(10) #only reads 10 bytes at the time\n",
        "\n",
        "inputFile.close()\n",
        "outputFile.close()"
      ],
      "execution_count": null,
      "outputs": []
    },
    {
      "cell_type": "code",
      "metadata": {
        "id": "iIxlghipDp2D",
        "colab_type": "code",
        "colab": {}
      },
      "source": [
        "remove('myfile.txt') #deletes file\n",
        "rename('oldfile.txt', 'newfile.txt') #renames file"
      ],
      "execution_count": null,
      "outputs": []
    },
    {
      "cell_type": "code",
      "metadata": {
        "id": "GLsTHIoiNWDE",
        "colab_type": "code",
        "colab": {}
      },
      "source": [
        ""
      ],
      "execution_count": null,
      "outputs": []
    }
  ]
}