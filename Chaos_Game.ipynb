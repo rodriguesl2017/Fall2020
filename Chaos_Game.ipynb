{
  "nbformat": 4,
  "nbformat_minor": 0,
  "metadata": {
    "colab": {
      "name": "Chaos_Game.ipynb",
      "provenance": []
    },
    "kernelspec": {
      "name": "python3",
      "display_name": "Python 3"
    }
  },
  "cells": [
    {
      "cell_type": "code",
      "metadata": {
        "id": "tFcuQY63kEGS",
        "colab_type": "code",
        "colab": {
          "base_uri": "https://localhost:8080/",
          "height": 230
        },
        "outputId": "fbf947ab-b67a-43ca-888b-f556aacbf073"
      },
      "source": [
        "!pip install git+https://github.com/williamedwardhahn/mpcr\n",
        "from mpcr import * #import functions"
      ],
      "execution_count": 1,
      "outputs": [
        {
          "output_type": "stream",
          "text": [
            "Collecting git+https://github.com/williamedwardhahn/mpcr\n",
            "  Cloning https://github.com/williamedwardhahn/mpcr to /tmp/pip-req-build-d584gxq_\n",
            "  Running command git clone -q https://github.com/williamedwardhahn/mpcr /tmp/pip-req-build-d584gxq_\n",
            "Building wheels for collected packages: ImportMPCR\n",
            "  Building wheel for ImportMPCR (setup.py) ... \u001b[?25l\u001b[?25hdone\n",
            "  Created wheel for ImportMPCR: filename=ImportMPCR-0.0.1-cp36-none-any.whl size=5859 sha256=2bf8ed0e9d0cf5c74c5a9745b3ea51a54a89296ea751cefadcecb2306749c197\n",
            "  Stored in directory: /tmp/pip-ephem-wheel-cache-r_e31zpb/wheels/89/93/47/ef43fe80a5b823a05d8dcca5ed1581f4fcdacf69b27110603f\n",
            "Successfully built ImportMPCR\n",
            "Installing collected packages: ImportMPCR\n",
            "Successfully installed ImportMPCR-0.0.1\n"
          ],
          "name": "stdout"
        },
        {
          "output_type": "stream",
          "text": [
            "/usr/local/lib/python3.6/dist-packages/statsmodels/tools/_testing.py:19: FutureWarning: pandas.util.testing is deprecated. Use the functions in the public API at pandas.testing instead.\n",
            "  import pandas.util.testing as tm\n"
          ],
          "name": "stderr"
        }
      ]
    },
    {
      "cell_type": "markdown",
      "metadata": {
        "id": "eaThoU3V71_Y",
        "colab_type": "text"
      },
      "source": [
        "#Part 1"
      ]
    },
    {
      "cell_type": "code",
      "metadata": {
        "id": "f0j1EOx_sXdy",
        "colab_type": "code",
        "colab": {}
      },
      "source": [
        "def midpoint(P, Q):\n",
        "    return (0.5*(P[0] + Q[0]), 0.5*(P[1] + Q[1])) #take midpoint by averaging inputs and outputs "
      ],
      "execution_count": 2,
      "outputs": []
    },
    {
      "cell_type": "code",
      "metadata": {
        "id": "5ZMkjXgisZi5",
        "colab_type": "code",
        "colab": {}
      },
      "source": [
        "vertices = [(0, 0), (2, 2*np.sqrt(3)), (4, 0)]\n",
        "n = 25000 # Change this value and see what happens. Number of vertices"
      ],
      "execution_count": 16,
      "outputs": []
    },
    {
      "cell_type": "code",
      "metadata": {
        "id": "YYwU1D5Fscl4",
        "colab_type": "code",
        "colab": {}
      },
      "source": [
        "x = [0]*n \n",
        "y = [0]*n\n",
        "x[0] = random()\n",
        "y[0] = random()\n",
        "#two lists with random n points are created"
      ],
      "execution_count": 17,
      "outputs": []
    },
    {
      "cell_type": "code",
      "metadata": {
        "id": "rz7Xkh3isbQw",
        "colab_type": "code",
        "colab": {}
      },
      "source": [
        "for i in range(1, n):\n",
        "    x[i], y[i] = midpoint( vertices[randint(0, 2)], (x[i-1], y[i-1]) ) #Midpoints are created from other random integers and are used to fill the list"
      ],
      "execution_count": 18,
      "outputs": []
    },
    {
      "cell_type": "code",
      "metadata": {
        "id": "ckckEjH6sgdU",
        "colab_type": "code",
        "colab": {
          "base_uri": "https://localhost:8080/",
          "height": 282
        },
        "outputId": "51ddc547-ebcf-4a42-f0b8-205848189ca9"
      },
      "source": [
        "plt.scatter(x, y, color = 'b', s=1)"
      ],
      "execution_count": 19,
      "outputs": [
        {
          "output_type": "execute_result",
          "data": {
            "text/plain": [
              "<matplotlib.collections.PathCollection at 0x7f57f1b44470>"
            ]
          },
          "metadata": {
            "tags": []
          },
          "execution_count": 19
        },
        {
          "output_type": "display_data",
          "data": {
            "image/png": "[encoded data removed]",
            "text/plain": [
              "<Figure size 432x288 with 1 Axes>"
            ]
          },
          "metadata": {
            "tags": [],
            "needs_background": "light"
          }
        }
      ]
    },
    {
      "cell_type": "code",
      "metadata": {
        "id": "2uyMUavc7yQ1",
        "colab_type": "code",
        "colab": {}
      },
      "source": [
        ""
      ],
      "execution_count": 19,
      "outputs": []
    },
    {
      "cell_type": "code",
      "metadata": {
        "id": "7j2F9PfF7yse",
        "colab_type": "code",
        "colab": {}
      },
      "source": [
        ""
      ],
      "execution_count": 19,
      "outputs": []
    },
    {
      "cell_type": "code",
      "metadata": {
        "id": "L6jVdRab7PW2",
        "colab_type": "code",
        "colab": {}
      },
      "source": [
        "#Bonus: Try to extend this code to create patterns like these"
      ],
      "execution_count": 20,
      "outputs": []
    },
    {
      "cell_type": "markdown",
      "metadata": {
        "id": "7DkPd-kC7p_C",
        "colab_type": "text"
      },
      "source": [
        "<img src ='http://math.hws.edu/eck/js/chaos-game/exercises.png'>\n",
        "\n"
      ]
    },
    {
      "cell_type": "code",
      "metadata": {
        "id": "RQOhRUqz7PaG",
        "colab_type": "code",
        "colab": {}
      },
      "source": [
        ""
      ],
      "execution_count": 20,
      "outputs": []
    },
    {
      "cell_type": "markdown",
      "metadata": {
        "id": "nlwy-8dL74IJ",
        "colab_type": "text"
      },
      "source": [
        "# Part 2"
      ]
    },
    {
      "cell_type": "code",
      "metadata": {
        "id": "RvxFOTul00Xa",
        "colab_type": "code",
        "colab": {}
      },
      "source": [
        "# Barnsley's Fern"
      ],
      "execution_count": 21,
      "outputs": []
    },
    {
      "cell_type": "code",
      "metadata": {
        "id": "7o3gjB4800V8",
        "colab_type": "code",
        "colab": {}
      },
      "source": [
        "# 1% of the time:x → 0,y → 0.16 y\n",
        "# 85% of the time:x → 0.85 x + 0.04 y, y → −0.04 x + 0.05 y + 1.6\n",
        "# 7% of the time:x → 0.2 x − 0.26 y, y → 0.23 x + 0.22 y + 1.6\n",
        "# 7% of the time:x → −0.15 x + 0.28 y, y → 0.26 x + 0.24 y + 0.44"
      ],
      "execution_count": 22,
      "outputs": []
    },
    {
      "cell_type": "code",
      "metadata": {
        "id": "Lwke1kMb168O",
        "colab_type": "code",
        "colab": {}
      },
      "source": [
        "def pick(p):\n",
        "    c = np.cumsum(p)\n",
        "    return bisect(c, np.random.random() * c[-1]) #matrix is randomly bisected"
      ],
      "execution_count": 23,
      "outputs": []
    },
    {
      "cell_type": "code",
      "metadata": {
        "colab_type": "code",
        "id": "RcEoTxlk8a-t",
        "colab": {}
      },
      "source": [
        "p = np.array([0.01,0.07,0.07,0.85]) #percentage of the time"
      ],
      "execution_count": 24,
      "outputs": []
    },
    {
      "cell_type": "code",
      "metadata": {
        "colab_type": "code",
        "id": "ix4UwDEt8a-v",
        "colab": {}
      },
      "source": [
        "eq = [np.array([[0,0,0],[0,0.16,0]]),\n",
        "      np.array([[0.2,-0.26,0],[0.23,0.22,1.6]]),\n",
        "      np.array([[-0.15, 0.28, 0],[0.26,0.24,0.44]]),\n",
        "      np.array([[0.85, 0.04, 0],[-0.04, 0.85, 1.6]])]\n",
        "      #creates matrix"
      ],
      "execution_count": 25,
      "outputs": []
    },
    {
      "cell_type": "code",
      "metadata": {
        "id": "JhydR9yF-rMF",
        "colab_type": "code",
        "colab": {}
      },
      "source": [
        "n = 25000 # Change this value and see what happens. Edge number\n",
        "x = np.zeros((n,3))\n",
        "x[:,2] = 1\n",
        "#changes all 2nd column values to 1 for the nx3 matrix"
      ],
      "execution_count": 26,
      "outputs": []
    },
    {
      "cell_type": "code",
      "metadata": {
        "id": "39kOU2wT0LPk",
        "colab_type": "code",
        "colab": {}
      },
      "source": [
        "for i in range(1,n):\n",
        "    x[i,:2] = np.matmul(eq[pick(p)],x[i-1,:]) #values are multipled and assign the last column of x to the first column of the result."
      ],
      "execution_count": 27,
      "outputs": []
    },
    {
      "cell_type": "code",
      "metadata": {
        "colab_type": "code",
        "id": "EZqK4oeW8USh",
        "colab": {
          "base_uri": "https://localhost:8080/",
          "height": 574
        },
        "outputId": "e344074c-55f4-4c3e-c0e1-23fe328e406c"
      },
      "source": [
        "plt.figure(figsize=(10,10))\n",
        "plt.scatter(x[:,0], x[:, 1], s=3, c=\"g\", marker=\"s\", linewidths=0)\n",
        "plt.axis(\"equal\"),plt.axis(\"off\"); #plots the fern"
      ],
      "execution_count": 28,
      "outputs": [
        {
          "output_type": "display_data",
          "data": {
            "image/png": "[encoded data removed]",
            "text/plain": [
              "<Figure size 720x720 with 1 Axes>"
            ]
          },
          "metadata": {
            "tags": [],
            "needs_background": "light"
          }
        }
      ]
    },
    {
      "cell_type": "code",
      "metadata": {
        "id": "FFhFowd9y_r5",
        "colab_type": "code",
        "colab": {}
      },
      "source": [
        ""
      ],
      "execution_count": null,
      "outputs": []
    }
  ]
}