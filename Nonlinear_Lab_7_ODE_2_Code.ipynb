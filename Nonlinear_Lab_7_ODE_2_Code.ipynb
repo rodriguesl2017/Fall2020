{
  "nbformat": 4,
  "nbformat_minor": 0,
  "metadata": {
    "kernelspec": {
      "display_name": "Python 3",
      "language": "python",
      "name": "python3"
    },
    "language_info": {
      "codemirror_mode": {
        "name": "ipython",
        "version": 3
      },
      "file_extension": ".py",
      "mimetype": "text/x-python",
      "name": "python",
      "nbconvert_exporter": "python",
      "pygments_lexer": "ipython3",
      "version": "3.6.8"
    },
    "colab": {
      "name": "Nonlinear Lab 7 ODE 2.ipynb",
      "provenance": [],
      "collapsed_sections": []
    }
  },
  "cells": [
    {
      "cell_type": "markdown",
      "metadata": {
        "id": "4P8DXhZlKnpi"
      },
      "source": [
        "https://www.astro.umass.edu/~schloerb/ph281/Lectures/DEQ/DEQ1.pdf"
      ]
    },
    {
      "cell_type": "markdown",
      "metadata": {
        "id": "GF6Ku0tzHxvB"
      },
      "source": [
        "![alt text](https://jmahaffy.sdsu.edu/courses/f00/math122/lectures/num_method_diff_equations/images/euler_ani.gif)"
      ]
    },
    {
      "cell_type": "markdown",
      "metadata": {
        "id": "mU-LD7trIBTY"
      },
      "source": [
        "![alt text](http://phys23p.sl.psu.edu/~mrg3/mathanim/diff_equ/stepeuler.gif)"
      ]
    },
    {
      "cell_type": "markdown",
      "metadata": {
        "id": "19clMSbAGuGL"
      },
      "source": [
        "![alt text](https://upload.wikimedia.org/wikipedia/commons/thumb/1/10/Euler_method.svg/1200px-Euler_method.svg.png)"
      ]
    },
    {
      "cell_type": "markdown",
      "metadata": {
        "id": "bRZGGOULG0R8"
      },
      "source": [
        "![alt text](https://wikimedia.org/api/rest_v1/media/math/render/svg/0df686bb7caa953daf6e0495aa9e1703e1be0ec4)"
      ]
    },
    {
      "cell_type": "code",
      "metadata": {
        "id": "1OGQYA55JGky"
      },
      "source": [
        "# example first order deq using euler method\n",
        "# radioactive decay\n",
        "import numpy as np\n",
        "import math\n",
        "import matplotlib.pyplot as plt"
      ],
      "execution_count": null,
      "outputs": []
    },
    {
      "cell_type": "code",
      "metadata": {
        "id": "jSDh8sNQMgcS"
      },
      "source": [
        "# set parameters\n",
        "k = 0.05\n",
        "N0 = 1000.\n",
        "dt = 0.001\n",
        "tfinal = 100.\n",
        "\n",
        "# initialize array of time t\n",
        "t = np.arange(0.,tfinal+dt,dt)\n",
        "npoints = len(t)\n",
        "\n",
        "# initialize arrays for solution\n",
        "N = np.zeros(npoints)\n",
        "NExact = N0 * np.exp(-k*t) # compute exact solution for comparison"
      ],
      "execution_count": null,
      "outputs": []
    },
    {
      "cell_type": "code",
      "metadata": {
        "id": "afKCu1dGsR1T"
      },
      "source": [
        "# Euler Solution\n",
        "N[0] = N0\n",
        "for i in range(npoints-1):\n",
        "    N[i+1] = N[i] - k*N[i]*dt"
      ],
      "execution_count": null,
      "outputs": []
    },
    {
      "cell_type": "code",
      "metadata": {
        "id": "Oh7UuOKDsSwx",
        "colab": {
          "base_uri": "https://localhost:8080/",
          "height": 281
        },
        "outputId": "7dc8a669-9583-4266-c91a-dbde93c7db2c"
      },
      "source": [
        "plt.plot(t,N,'mo',label='Euler')\n",
        "plt.plot(t,NExact,'k',label='Exact')\n",
        "plt.xlabel('t')\n",
        "plt.ylabel('N')\n",
        "plt.legend()\n",
        "plt.axis([-5,105,-10,1010])\n",
        "plt.grid('on')"
      ],
      "execution_count": null,
      "outputs": [
        {
          "output_type": "display_data",
          "data": {
            "image/png": "[encoded data removed]",
            "text/plain": [
              "<Figure size 432x288 with 1 Axes>"
            ]
          },
          "metadata": {
            "tags": [],
            "needs_background": "light"
          }
        }
      ]
    },
    {
      "cell_type": "code",
      "metadata": {
        "id": "7bUAxmolsoRa",
        "colab": {
          "base_uri": "https://localhost:8080/",
          "height": 279
        },
        "outputId": "0eb69d48-3cb0-4b52-a1de-a7d517fd3f7a"
      },
      "source": [
        "plt.plot(t,N-NExact,'bo')\n",
        "plt.xlabel('t')\n",
        "plt.ylabel('Euler - Exact')\n",
        "plt.axis([-5,105,-20,1])\n",
        "plt.grid('on')"
      ],
      "execution_count": null,
      "outputs": [
        {
          "output_type": "display_data",
          "data": {
            "image/png": "[encoded data removed]",
            "text/plain": [
              "<Figure size 432x288 with 1 Axes>"
            ]
          },
          "metadata": {
            "tags": [],
            "needs_background": "light"
          }
        }
      ]
    },
    {
      "cell_type": "code",
      "metadata": {
        "id": "5_eAQc4GN9Wc",
        "colab": {
          "base_uri": "https://localhost:8080/",
          "height": 282
        },
        "outputId": "affba599-0f5c-46ab-a3fe-b8123bc8792c"
      },
      "source": [
        "plt.plot(np.abs(N-NExact))"
      ],
      "execution_count": null,
      "outputs": [
        {
          "output_type": "execute_result",
          "data": {
            "text/plain": [
              "[<matplotlib.lines.Line2D at 0x7ff98384a128>]"
            ]
          },
          "metadata": {
            "tags": []
          },
          "execution_count": 10
        },
        {
          "output_type": "display_data",
          "data": {
            "image/png": "[encoded data removed]",
            "text/plain": [
              "<Figure size 432x288 with 1 Axes>"
            ]
          },
          "metadata": {
            "tags": [],
            "needs_background": "light"
          }
        }
      ]
    },
    {
      "cell_type": "code",
      "metadata": {
        "id": "8q8aEgt3Jds2",
        "colab": {
          "base_uri": "https://localhost:8080/",
          "height": 296
        },
        "outputId": "eba50633-55ee-4d62-fb7d-c760a4970f83"
      },
      "source": [
        "# second order deq example\n",
        "# falling ball\n",
        "\n",
        "import numpy as np\n",
        "import matplotlib.pyplot as pl\n",
        "\n",
        "# set parameters\n",
        "g = 9.8\n",
        "X0 = 0.\n",
        "V0 = 0.\n",
        "dt  = 2\n",
        "tfinal = 100.\n",
        "\n",
        "# initialize arrays\n",
        "t = np.arange(0.,tfinal+dt,dt)\n",
        "npoints = len(t)\n",
        "X = np.zeros(npoints)\n",
        "V = np.zeros(npoints)\n",
        "XExact = X0 + V0*t - 0.5*g*t**2\n",
        "\n",
        "# Euler's method solution\n",
        "X[0] = X0\n",
        "V[0] = V0\n",
        "for i in range(npoints-1):\n",
        "    X[i+1] = X[i] + V[i]*dt\n",
        "    V[i+1] = V[i] - g*dt\n",
        "\n",
        "# plot the results\n",
        "plt.ion()\n",
        "plt.plot(t,X,'mo',label='Euler')\n",
        "plt.plot(t,XExact,'k',label='Exact')\n",
        "plt.xlabel('t (s)')\n",
        "plt.ylabel('X (m)')\n",
        "plt.legend()"
      ],
      "execution_count": null,
      "outputs": [
        {
          "output_type": "execute_result",
          "data": {
            "text/plain": [
              "<matplotlib.legend.Legend at 0x7ff98339bf98>"
            ]
          },
          "metadata": {
            "tags": []
          },
          "execution_count": 23
        },
        {
          "output_type": "display_data",
          "data": {
            "image/png": "[encoded data removed]",
            "text/plain": [
              "<Figure size 432x288 with 1 Axes>"
            ]
          },
          "metadata": {
            "tags": [],
            "needs_background": "light"
          }
        }
      ]
    },
    {
      "cell_type": "code",
      "metadata": {
        "id": "cFQil5WmJffZ",
        "colab": {
          "base_uri": "https://localhost:8080/",
          "height": 282
        },
        "outputId": "75d626e3-bff4-4705-a79d-d6b55d451b02"
      },
      "source": [
        "plt.plot(np.abs(X-XExact))"
      ],
      "execution_count": null,
      "outputs": [
        {
          "output_type": "execute_result",
          "data": {
            "text/plain": [
              "[<matplotlib.lines.Line2D at 0x7ff98338c748>]"
            ]
          },
          "metadata": {
            "tags": []
          },
          "execution_count": 24
        },
        {
          "output_type": "display_data",
          "data": {
            "image/png": "[encoded data removed]",
            "text/plain": [
              "<Figure size 432x288 with 1 Axes>"
            ]
          },
          "metadata": {
            "tags": [],
            "needs_background": "light"
          }
        }
      ]
    },
    {
      "cell_type": "code",
      "metadata": {
        "id": "Uj-UzSEMJgBl",
        "colab": {
          "base_uri": "https://localhost:8080/",
          "height": 296
        },
        "outputId": "a64f2dd0-cccd-42fb-9a9a-500cb0c98dd2"
      },
      "source": [
        "# second order deq example\n",
        "# falling ball\n",
        "# program updated to use second order Runge-Kutta\n",
        "\n",
        "import numpy as np\n",
        "import matplotlib.pyplot as pl\n",
        "\n",
        "# set parameters\n",
        "g = 9.8\n",
        "X0 = 0.\n",
        "V0 = 0.\n",
        "dt  = 2.\n",
        "tfinal = 100.\n",
        "\n",
        "# initialize arrays\n",
        "t = np.arange(0.,tfinal+dt,dt)\n",
        "npoints = len(t)\n",
        "X = np.zeros(npoints)\n",
        "V = np.zeros(npoints)\n",
        "XExact = X0 + V0*t - 0.5*g*t**2\n",
        "\n",
        "# SECOND ORDER RUNGE_KUTTA SOLUTION\n",
        "X[0] = X0\n",
        "V[0] = V0\n",
        "for i in range(npoints-1):\n",
        "    # compute midpoint velocity\n",
        "    Vmid = V[i] - 0.5*g*dt  \n",
        "    # use midpoint velocity to advance position\n",
        "    X[i+1] = X[i] + Vmid*dt\n",
        "    V[i+1] = V[i] - g*dt\n",
        "\n",
        "# plot the results\n",
        "plt.ion()\n",
        "plt.plot(t,X,'mo',label='Euler')\n",
        "plt.plot(t,XExact,'k',label='Exact')\n",
        "plt.xlabel('t (s)')\n",
        "plt.ylabel('X (m)')\n",
        "plt.legend()"
      ],
      "execution_count": null,
      "outputs": [
        {
          "output_type": "execute_result",
          "data": {
            "text/plain": [
              "<matplotlib.legend.Legend at 0x7ff9832ece80>"
            ]
          },
          "metadata": {
            "tags": []
          },
          "execution_count": 25
        },
        {
          "output_type": "display_data",
          "data": {
            "image/png": "[encoded data removed]",
            "text/plain": [
              "<Figure size 432x288 with 1 Axes>"
            ]
          },
          "metadata": {
            "tags": [],
            "needs_background": "light"
          }
        }
      ]
    },
    {
      "cell_type": "code",
      "metadata": {
        "id": "N3dN0j6XJpRL",
        "colab": {
          "base_uri": "https://localhost:8080/",
          "height": 293
        },
        "outputId": "9a4663de-65b6-4592-f3a3-f8a458af361f"
      },
      "source": [
        "plt.plot(np.abs(X-XExact))"
      ],
      "execution_count": null,
      "outputs": [
        {
          "output_type": "execute_result",
          "data": {
            "text/plain": [
              "[<matplotlib.lines.Line2D at 0x7ff9832611d0>]"
            ]
          },
          "metadata": {
            "tags": []
          },
          "execution_count": 26
        },
        {
          "output_type": "display_data",
          "data": {
            "image/png": "[encoded data removed]",
            "text/plain": [
              "<Figure size 432x288 with 1 Axes>"
            ]
          },
          "metadata": {
            "tags": [],
            "needs_background": "light"
          }
        }
      ]
    },
    {
      "cell_type": "markdown",
      "metadata": {
        "id": "GA2djP1LHJsH"
      },
      "source": [
        "## One-step numerical methods\n",
        "\n",
        "Finally, we are prepared to discuss some numerical methods to\n",
        "approximate the solution to all these ODEs. To simplify the notation,\n",
        "we present our methods in the context of the scalar equation\n",
        "\\begin{equation*}\n",
        "{\\dot x}(t) = f (t, x)\n",
        "\\end{equation*}\n",
        "with the initial condition $x(t_0) = x_0$. All the algorithms\n",
        "generalize trivially to systems: simply replace scalars with vectors.\n",
        "When computing approximate solutions to the initial value problem, we\n",
        "will not obtain the solution for every value of $t > t_0$, but only on\n",
        "a discrete grid.\\footnote{The field of asymptotic analysis delivers\n",
        "  approximations in terms of elementary functions that can be highly\n",
        "  accurate; these are typically derived in a non-numerical fashion,\n",
        "  and often have the virtue of accurately identifying leading order\n",
        "  behavior of complicated solutions. For a beautiful introduction to\n",
        "  this important area of applied mathematics, see Carl M. Bender and\n",
        "  Seven A. Orszag, Advanced Mathematical Methods for Scientists and\n",
        "  Engineers; McGraw-Hill, 1978; Springer, 1999.} In particular, we\n",
        "will generate approximate solutions at some regular grid of time steps\n",
        "\\begin{equation*}\n",
        "t_k = t_0 + kh\n",
        "\\end{equation*}\n",
        "for some constant step-size $h$. (Actually, the methods we consider in\n",
        "this subsection actually allow $h$ to change with each step size, so\n",
        "one actually has $t_k = t_{k-1} + h$. For simplicity of notation, we\n",
        "will assume for now that the step-size is fixed.)\n",
        "\n",
        "The approximation to $x$ at the time $t_k$ is denoted by $x_k$, so hopefully\n",
        "\\begin{equation*}\n",
        "x_k \\approx x(t_k).\n",
        "\\end{equation*}\n",
        "Of course, the initial data is exact:\n",
        "\\begin{equation*}\n",
        "x_0 = x(t_0).\n",
        "\\end{equation*}"
      ]
    },
    {
      "cell_type": "markdown",
      "metadata": {
        "id": "7VA_6EsUHJsH"
      },
      "source": [
        "## Euler's method\n",
        "\n",
        "We need some approximation that will advance from the exact point on\n",
        "the solution curve, $(t_0 , x_0)$ to time $t_1$. Recall from introductory \n",
        "calculus that\n",
        "\\begin{equation}\n",
        "{\\dot x}(t) = \\lim_{h\\rightarrow0} \\frac{x(t + h) - x(t)}{h}.\n",
        "\\end{equation}\n",
        "This definition of the derivative inspires our first method. Apply it\n",
        "at time $t_0$ with our small but finite time step $h$ to obtain\n",
        "\\begin{equation}\n",
        "{\\dot x}(t_0) \\approx  \\frac{x(t_0 + h) - x(t_0)}{h}.\n",
        "\\end{equation}\n",
        "Since $x(t_0) = f(t_0 , x(t_0)) = f (t_0, x_0)$, we have access to the\n",
        "quantity on the left hand side of this approximation. The only\n",
        "quantity we don't know is $x(t_0 + h) = x(t_1)$. Rearranging the above\n",
        "to put $x(t_1)$ on the left hand side, we obtain\n",
        "\\begin{equation}\n",
        "x(t_1) \\approx x(t_0)  + h{\\dot x}(t_0) = x_0 + hf(t_0, x_0).\n",
        "\\end{equation}\n",
        "This approximation is precisely the one suggested by the direction\n",
        "field discussion above. There, to progress from the starting point\n",
        "$(t_0, x_0)$, we followed the line of slope $f(t_0, x_0)$ some\n",
        "distance, which in the present context is our step size, $h$. To\n",
        "progress from the new point, $(t_1, x_1)$, we follow a new slope,\n",
        "$f(t_1, x_1)$, giving the iteration\n",
        "\\begin{equation}\n",
        "x_2 = x_1 + hf(t_1, x_1).\n",
        "\\end{equation}\n",
        "There is an important distinction here. Ideally, we would have derived\n",
        "our value of $x_2 \\approx x(t_2)$ from the formula\n",
        "\\begin{equation}\n",
        "x(t_2) \\approx x(t_1) + hf(t_1, x(t_1)).\n",
        "\\end{equation}\n",
        "\n",
        "However, an error was\n",
        "made in the computation of $x_1 \\approx x(t_1)$; we do not have access\n",
        "to the exact value $x(t_1)$. Thus, compute $x_2$ from $x_1$, the\n",
        "quantity we have access to. This might seem like a minor distinction,\n",
        "but in general the difference between the approximation $x_k$ and the\n",
        "true solution $x(t_k)$ is vital. At each step, a local error is made\n",
        "due to the approximation of the derivative by a line. These local\n",
        "errors accumulate, giving global error. Is a small local error enough\n",
        "to ensure small global error? This question will be addressed below.\n",
        "\n",
        "Given the approximation $x_2$, repeat the same procedure to obtain $x_3$, \n",
        "and so on. Formally, the Euler's Method algorithm is\n",
        "\\begin{equation}\n",
        "\\boxed{x_{k+1} = x_k + hf(t_k, x_k)}.\n",
        "\\end{equation}\n",
        "\n",
        "Although Euler’s method is seldom used in practice any longer, it is a\n",
        "great introduction to computational mathematics. We will use it to\n",
        "solve a single variable, ordinary differential equation of the form,\n",
        "\\begin{equation}\n",
        "  \\dfrac{d}{dt} x = f(t,x), \\quad a \\le t \\le b, \\quad x(a) = \\alpha\n",
        "\\end{equation}\n",
        "The differential equation describes how the derivative of $x$ behaves,\n",
        "as a function of an independent variable, $t$, and the function\n",
        "$x(t)$. We would like to determine the function $x(t)$ for the initial\n",
        "condition $x(a)=\\alpha$, on the domain $a \\le t \\le b$.\n",
        "\n",
        "Euler's method divides the domain into $N$ pieces of size $h$. If the\n",
        "domain is given by $[a,b]$, then the step size is given by\n",
        "$h=(b-a)/N$.  Using this definition for our computation\n",
        "mesh\\index{mesh}, we can then write the algorithm more succinctly as,\n",
        "\\begin{align*}\n",
        "  x_{0} &= \\alpha \\\\ s_{i+1} &= s_{i} + h f( t_{i}, s_{i} ), \\mbox{\n",
        "    for } i \\in [0,N).\n",
        "\\end{align*}\n",
        "Using this expression, we can step through the independent variable,\n",
        "$t$, and evaluate the derivative, $f(t,x)$, to obtain an approximation\n",
        "$x_{i} \\approx x(t)$, given that we have some initial starting point in\n",
        "the form of $x(a)=\\alpha$.\n",
        "\n",
        "Suppose we have a differential equation of the form,\n",
        "\\begin{equation}\n",
        "  {\\dot x} = x - t^{2} + 1, \\quad 0 \\le t \\le 2, \\quad f(0) = 0.5.\n",
        "  \\label{eq:odeex2}\n",
        "\\end{equation}\n",
        "For reference, the analytical solution is $x(t)=(t+1)^{2}-0.5e^{t}$."
      ]
    },
    {
      "cell_type": "markdown",
      "metadata": {
        "id": "gWwUc5EMHJsI"
      },
      "source": [
        "Below, we present an implementation of the above method using Python:"
      ]
    },
    {
      "cell_type": "code",
      "metadata": {
        "id": "OuVV7KO4HJsJ"
      },
      "source": [
        "import numpy as np\n",
        "\n",
        "# Euler's method\n",
        "def euler_mthd( f, a, b, N, IV ):\n",
        "    h = (b-a)/float(N)          # determine step-size\n",
        "    t = np.arange( a, b+h, h )  # create mesh\n",
        "    x = np.zeros((N+1,))        # initialize x\n",
        "    t[0], x[0] = IV             # set initial values\n",
        "    for i in range(1,N+1):      # apply Euler's method\n",
        "        x[i] = x[i-1] + h * f( t[i-1], x[i-1] )\n",
        "    return t, x                 # Return mesh and solution\n"
      ],
      "execution_count": null,
      "outputs": []
    },
    {
      "cell_type": "markdown",
      "metadata": {
        "id": "zeW2aW1fHJsL"
      },
      "source": [
        "We define the left-hand side of our first-order differential equation as the following function:"
      ]
    },
    {
      "cell_type": "code",
      "metadata": {
        "id": "0ovbvi1zHJsM"
      },
      "source": [
        "# The ordinary differential equation\n",
        "def f( t, x ):\n",
        "    return x - t**2 + 1"
      ],
      "execution_count": null,
      "outputs": []
    },
    {
      "cell_type": "markdown",
      "metadata": {
        "id": "Oa7UVtjRHJsO"
      },
      "source": [
        "Alternatively, we can use a lambda expression to define this \"on the fly\".  I'll give an example of this later on.  The following code defines the initial and value and range of the independent variable.  This is following by a call to our Euler algorithm."
      ]
    },
    {
      "cell_type": "code",
      "metadata": {
        "id": "A00S2ikGHJsO"
      },
      "source": [
        "# Define the initial values and mesh\n",
        "\n",
        "# limits: 0.0 <= t <= 2.0\n",
        "a = 0.0\n",
        "b = 2.0\n",
        " \n",
        "# steps\n",
        "N = 100\n",
        "\n",
        "# initial value: y(0.0) = 0.5\n",
        "IV = (0.0,0.5)\n",
        "\n",
        "# Do the computation\n",
        "t, x = euler_mthd(f, a, b, N, IV)\n",
        "\n",
        "# The exact solution for this initial value\n",
        "def exact( t ):\n",
        "    return (t+1.0)**2.0-0.5*np.exp(t)"
      ],
      "execution_count": null,
      "outputs": []
    },
    {
      "cell_type": "markdown",
      "metadata": {
        "id": "MCOpNqXFHJsQ"
      },
      "source": [
        "We may view the results of Euler's method and the exact result graphically:"
      ]
    },
    {
      "cell_type": "code",
      "metadata": {
        "scrolled": true,
        "id": "8EOjFiyTHJsR",
        "colab": {
          "base_uri": "https://localhost:8080/",
          "height": 295
        },
        "outputId": "191b4603-252c-43dc-f10b-e407ab17aed0"
      },
      "source": [
        "# Plot the Euler solution\n",
        "\n",
        "from matplotlib.pyplot import *\n",
        "\n",
        "plot( t, x, label='approximation' )\n",
        "plot( t, exact(t), label='exact' )\n",
        "title( \"Euler's Method Example, N=\"+str(N) )\n",
        "xlabel('t') \n",
        "ylabel('x(t)')\n",
        "legend(loc=4)\n",
        "grid()\n",
        "savefig( 'euler_example.png', fmt='PNG', dpi=100 )\n"
      ],
      "execution_count": null,
      "outputs": [
        {
          "output_type": "display_data",
          "data": {
            "image/png": "[encoded data removed]",
            "text/plain": [
              "<Figure size 432x288 with 1 Axes>"
            ]
          },
          "metadata": {
            "tags": [],
            "needs_background": "light"
          }
        }
      ]
    },
    {
      "cell_type": "code",
      "metadata": {
        "scrolled": true,
        "id": "WYyi5KESHJsU"
      },
      "source": [
        "show()"
      ],
      "execution_count": null,
      "outputs": []
    },
    {
      "cell_type": "markdown",
      "metadata": {
        "id": "BzX6KbRcHJsm"
      },
      "source": [
        "# Analysis of one-step integrators\n",
        "\n",
        "So the Taylor method does much better than Euler, but the high-order\n",
        "derivatives must be computable.  This is often not the case.\n",
        "\n",
        "To obtain increased accuracy in Euler's method,\n",
        "\\begin{equation}\n",
        "x_{k+1} = x_k + hf (t_k, x_k),\n",
        "\\end{equation}\n",
        "one might naturally reduce the step-size, $h$. Since this method was\n",
        "derived from a first-order approximation to the derivative, we might\n",
        "expect the error to decay linearly in $h$. Before making this\n",
        "rigorous, let us first think about better approaches: we are rarely\n",
        "satisfied with order-$h$ accuracy!  By improving upon Euler's method,\n",
        "we hope to obtain an improved solution while still maintaining a large\n",
        "time-step. The first modification we present may not look like such a\n",
        "big improvement: simply replace $f(t_k, x_k)$ by $f(t_{k+1} ,\n",
        "x_{k+1})$ to obtain $x_{k+1} = x_k + h f(t_{k+1}, x_{k+1})$, called\n",
        "the {\\it backward} Euler method.  Because $x_{k+1}$ depends on the value $f\n",
        "(t_{k+1}, x_{k+1})$, this scheme is called an {\\it implicit method};\n",
        "to compute $x_{k+1}$, one needs to solve a (generally nonlinear)\n",
        "system of equations, rather more involved than the simple update\n",
        "required for the forward Euler method.  Implicit methods often require\n",
        "iteration and therefore are more expensive than {\\it explicit} methods.\n",
        "\n",
        "However, one can improve upon the explicit Euler-like methods by\n",
        "averaging the updates they make to $x_k$:\n",
        "\\begin{equation}\n",
        "x_{k+1} = x_k + \\frac12 h\\left[f(t_k, x_k) + f(t_{k+1}, x_{k+1})\\right].\n",
        "\\end{equation}\n",
        "This method is the trapezoid rule, for it can be derived by\n",
        "integrating the equation $x^\\prime(t) = f(t, x(t))$,\n",
        "\\begin{equation}\n",
        "\\int^{t_{k+1}}_{t_k} dt\\, x^\\prime(t) = \\int^{t_{k+1}}_{t_k} dt\\, f(t,\n",
        "x(t))\n",
        "\\end{equation}\n",
        "and approximating the integral on the right using the trapezoid\n",
        "rule. The fundamental theorem of calculus gives the exact formula for\n",
        "the integral on the left, $x(t_{k+1}) - x(t_k)$, which can be approximated\n",
        "by $x_{k+1} - x_k$. Rearranging these equations results in the trapezoid\n",
        "rule for $x_{k+1}$.  \n",
        "\n",
        "Like the backward Euler method, the trapezoid rule is implicit, due to\n",
        "the $f(t_{k+1}, x_{k+1})$ term. To obtain a similar explicit method,\n",
        "one can replace $x_{k+1}$ by its approximation from the explicit Euler\n",
        "method:\n",
        "\\begin{equation}\n",
        "f(t_k + h, x_{k+1}) \\approx f\\left(t_k + h, x_k + hf (t_k , x_k)\\right).\n",
        "\\end{equation}\n",
        "The result is called {\\it Heun's method} or the {\\it improved Euler method}:\n",
        "[FYI: {\\it Heun} rhymes with {\\it coin}.]\n",
        "\\begin{equation}\n",
        "x_{k+1} = x_k + \\frac12 h \\left[f(t_k, x_k) + f\\left(t_k + h, x_k + hf (t_k, x_k)\\right)\\right].\n",
        "\\end{equation}\n",
        "Note that this method can be implemented using only two evaluations of\n",
        "the function $f(t, x)$.\n",
        "\n",
        "The midpoint method is the simplest of these schemes.  It uses\n",
        "an Euler step to evaluate the derivative in the midpoint of the\n",
        "interval as follows:\n",
        "\\begin{align*}\n",
        "  x_{0} &= \\alpha \\\\ x_{i+1} &= x_{i} + h f \\Bigl( t_{i} +\n",
        "  \\frac{h}{2}, x_{i} + \\frac{h}{2} f( t_{i}, x_{i} ) \\Bigr) \\\\\n",
        "\\end{align*}\n",
        "\n",
        "We may implement it in Python as follows:"
      ]
    },
    {
      "cell_type": "code",
      "metadata": {
        "id": "KLVNq8SuHJsn"
      },
      "source": [
        "import numpy as np\n",
        "\n",
        "def midpoint_method( f, a, b, N, IV ):\n",
        "    h = (b-a)/float(N)          # determine step-size\n",
        "    t = np.arange( a, b+h, h )  # create mesh\n",
        "    x = np.zeros((N+1,))        # initialize x\n",
        "    t[0], x[0] = IV             # set initial values\n",
        "    for i in range(1,N+1):      # apply Midpoint Method\n",
        "        x[i] = x[i-1] + h * f( t[i-1] + h/2.0, x[i-1] + \\\n",
        "                               h * f( t[i-1], x[i-1] ) / 2.0 )\n",
        "    return t, x                 # Return mesh and solution"
      ],
      "execution_count": null,
      "outputs": []
    },
    {
      "cell_type": "markdown",
      "metadata": {
        "id": "QkRh1qUhHJsp"
      },
      "source": [
        "## The Modified Euler Method\n",
        "\n",
        "The modified Euler method is the average of the midpoint method\n",
        "and the Euler method:\n",
        "\\begin{align*}\n",
        "  x_{0} &= \\alpha \\\\ x_{i+1} &= x_{i} + \\frac{h}{2} \\biggl[ f( t_{i},\n",
        "  x_{i} ) + f\\Bigl( t_{i+1}, x_{i} + h\n",
        "  f( t_{i}, x_{i} ) \\Bigr) \\biggr] \\\\\n",
        "\\end{align*}\n",
        "\n",
        "In Python, we have:"
      ]
    },
    {
      "cell_type": "code",
      "metadata": {
        "id": "31KctjPFHJsq"
      },
      "source": [
        "import numpy as np\n",
        "\n",
        "def modified_euler_method( f, a, b, N, IV ):\n",
        "    h = (b-a)/float(N)          # determine step-size\n",
        "    t = np.arange( a, b+h, h )  # create mesh\n",
        "    x = np.zeros((N+1,))        # initialize x\n",
        "    t[0], x[0] = IV             # set initial values\n",
        "    for i in range(1,N+1):      # apply Modified Euler Method\n",
        "        f1 = f( t[i-1], x[i-1] )\n",
        "        f2 = f( t[i], x[i-1] + h * f1 )\n",
        "        x[i] = x[i-1] + h * ( f1 + f2 ) / 2.0\n",
        "    return t, x                 # Return mesh and solution\n"
      ],
      "execution_count": null,
      "outputs": []
    },
    {
      "cell_type": "markdown",
      "metadata": {
        "id": "6CcAunpLHJss"
      },
      "source": [
        "## Heun's Method\n",
        "\n",
        "This method weights the average toward the midpoint evaluation:\n",
        "\\begin{align*}\n",
        "  x_{0} & = \\alpha \\\\ x_{i+1} & = x_{i} + \\frac{h}{4} \\biggl[\n",
        "  f(t_{i},x_{i}) + 3f\\Bigl( t_{i} +\n",
        "  \\frac{2}{3} h, x_{i} + \\frac{2}{3} h f(t_{i},x_{i}) \\Bigr) \\biggr]\n",
        "  \\\\\n",
        "\\end{align*}\n",
        "\n",
        "And in Python:"
      ]
    },
    {
      "cell_type": "code",
      "metadata": {
        "id": "ObIx-orRHJst"
      },
      "source": [
        "import numpy as np\n",
        "\n",
        "def heun_method( f, a, b, N, IV ):\n",
        "    h = (b-a)/float(N)          # determine step-size\n",
        "    t = np.arange( a, b+h, h )  # create mesh\n",
        "    x = np.zeros((N+1,))        # initialize x\n",
        "    t[0], x[0] = IV             # set initial values\n",
        "    for i in range(1,N+1):      # apply Heun's Method\n",
        "        f1 = f( t[i-1], x[i-1] )\n",
        "        f2 = f( t[i-1] + (2.0/3.0) * h, \\\n",
        "                x[i-1] + (2.0/3.0) * h * f1 )\n",
        "        x[i] = x[i-1] + h * ( f1 + 3.0 * f2 ) / 4.0\n",
        "    return t, x                 # Return mesh and solution\n"
      ],
      "execution_count": null,
      "outputs": []
    },
    {
      "cell_type": "markdown",
      "metadata": {
        "id": "oSlGtMjeGWMk"
      },
      "source": [
        "![alt text](http://www.physics.drexel.edu/~steve/Courses/Comp_Phys/Integrators/rk4.gif)"
      ]
    },
    {
      "cell_type": "markdown",
      "metadata": {
        "id": "a8ielr5iHJsw"
      },
      "source": [
        "\\begin{equation*}\n",
        "x_{k+1} = x_k + \\frac16 h\\left(k_1 + 2k_2 + 2k_3 + k_4\\right),\n",
        "\\end{equation*}\n",
        "where\n",
        "\\begin{eqnarray*}\n",
        "  k_1 &=& f(t_k, x_k) \\\\\n",
        "  k_2 &=& f(t_k+\\frac12h, x_k + \\frac12hk_1) \\\\\n",
        "  k_3 &=& f(t_k+\\frac12h, x_k + \\frac12hk_2) \\\\\n",
        "  k_4 &=& f(t_k + h, x_k + hk_3).\n",
        "\\end{eqnarray*}\n",
        "\n",
        "\n",
        "The formal mathematical analysis for each of these schemes shows the\n",
        "various combinations effectively remove errors corresponding to Taylor\n",
        "series terms of various order.  The Runge-Kutta formalism takes\n",
        "advantage of this realization to derive high-order methods without\n",
        "requiring high-order derivatives as in the Taylor Method.  The most\n",
        "commonly used is the 4th-order scheme:\n",
        "\\begin{align*}\n",
        "  x_{0} &= \\alpha \\\\ k_{1} &= h f( t_{i}, x_{i} ) \\\\ k_{2} &= h f\n",
        "  \\biggl( t_{i} + \\frac{h}{2}, x_{i} + \\frac{1}{2} k_{1} \\biggr)\n",
        "  \\\\ k_{3} &= h f \\biggl( t_{i} + \\frac{h}{2}, x_{i} + \\frac{1}{2}\n",
        "  k_{2} \\biggr) \\\\ k_{4} &= h f( t_{i+1}, x_{i}+k_{3} ) \\\\ x_{i+1} &=\n",
        "  x_{i} + \\frac{1}{6} \\bigl( k_{1} + 2k_{2} + 2k_{3} + k_{4} \\bigr)\n",
        "  \\\\\n",
        "\\end{align*}"
      ]
    },
    {
      "cell_type": "markdown",
      "metadata": {
        "id": "foi79A8jUvJY"
      },
      "source": [
        "We must address an important consideration: the greater a method's\n",
        "accuracy, the more evaluations of the function $f$ per step are\n",
        "required. In real applications, it is often computationally\n",
        "expensive to evaluate that function $f$. Thus one is forced to make a\n",
        "trade-off: methods with greater accuracy allow for larger time-step\n",
        "$h$, but require more function evaluations per time step. To\n",
        "understand the interplay between accuracy and computational expense,\n",
        "we require a more nuanced understanding of the convergence behavior of\n",
        "these various methods."
      ]
    },
    {
      "cell_type": "code",
      "metadata": {
        "id": "cCwIgBxaHJsx"
      },
      "source": [
        "import numpy as np\n",
        "\n",
        "def runge_kutta_4_method( f, a, b, N, IV ):\n",
        "    h = (b-a)/float(N)          # determine step-size\n",
        "    t = np.arange( a, b+h, h )  # create mesh\n",
        "    x = np.zeros((N+1,))        # initialize x\n",
        "    t[0], x[0] = IV             # set initial values\n",
        "    # apply Fourth Order Runge-Kutta Method\n",
        "    for i in range(1,N+1):\n",
        "        k1 = h * f( t[i-1], x[i-1] )\n",
        "        k2 = h * f( t[i-1] + h / 2.0, x[i-1] + k1 / 2.0 )\n",
        "        k3 = h * f( t[i-1] + h / 2.0, x[i-1] + k2 / 2.0 )\n",
        "        k4 = h * f( t[i], x[i-1] + k3 )\n",
        "        x[i] = x[i-1] + ( k1 + 2.0 * k2 + 2.0 * k3 + k4 ) / 6.0\n",
        "    return t, x\n"
      ],
      "execution_count": null,
      "outputs": []
    },
    {
      "cell_type": "markdown",
      "metadata": {
        "id": "9UN19-8wHJs0"
      },
      "source": [
        "# Summary\n",
        "\n",
        "The following script compars of the relative errors for all the\n",
        "methods so far:"
      ]
    },
    {
      "cell_type": "code",
      "metadata": {
        "id": "EHtE0zjrHJs1",
        "colab": {
          "base_uri": "https://localhost:8080/",
          "height": 151
        },
        "outputId": "798d1e9e-743e-401a-96c1-ea77d1e2bca0"
      },
      "source": [
        "from collections import OrderedDict\n",
        "from IPython.display import HTML, display\n",
        "\n",
        "# relative error computation\n",
        "error_rel = lambda x, y: np.sum( np.abs( x - y ) / np.abs( x ) )\n",
        "\n",
        "# save relative error value in order of insertion\n",
        "e = OrderedDict()\n",
        "\n",
        "t, x = euler_mthd( f, a, b, N, IV )\n",
        "e['Euler'] = error_rel(exact(t), x)\n",
        "\n",
        "# Provide the ODE function and derivatives for Taylor's method\n",
        "f   = lambda t, x: x - t**2.0 + 1\n",
        "df  = lambda t, x: x - t**2.0 + 1 - 2*t\n",
        "ddf = lambda t, x: x - t**2.0 - 2*t - 1\n",
        "\n",
        "t, x = midpoint_method( f, a, b, N, IV )\n",
        "e['Midpoint'] = error_rel(exact(t), x)\n",
        "\n",
        "t, x = modified_euler_method( f, a, b, N, IV )\n",
        "e['Modified'] = error_rel(exact(t), x)\n",
        "\n",
        "t, x = heun_method( f, a, b, N, IV )\n",
        "e['Heun'] = error_rel(exact(t), x)\n",
        "\n",
        "t, x = runge_kutta_4_method( f, a, b, N, IV )\n",
        "e['4th-order R-K'] = error_rel(exact(t), x)\n",
        "\n",
        "# Make an array of arrays to display our results in a table\n",
        "output = [[\"METHOD\", \"RELATIVE ERROR\"], [\"\", \"\"]]\n",
        "for k in e:\n",
        "    output.append([k, \"{:10g}\".format(e[k])])\n",
        "\n",
        "display(HTML(\n",
        "    '<table><tr>{}</tr></table>'.format(\n",
        "        '</tr><tr>'.join(\n",
        "            '<td>{}</td>'.format('</td><td>'.join(str(_) for _ in row)) for row in output)\n",
        "        )\n",
        " ))"
      ],
      "execution_count": null,
      "outputs": [
        {
          "output_type": "display_data",
          "data": {
            "text/html": [
              "<table><tr><td>METHOD</td><td>RELATIVE ERROR</td></tr><tr><td></td><td></td></tr><tr><td>Euler</td><td>  0.722245</td></tr><tr><td>Midpoint</td><td>0.00268413</td></tr><tr><td>Modified</td><td>0.00921544</td></tr><tr><td>Heun</td><td>0.00486124</td></tr><tr><td>4th-order R-K</td><td>1.40903e-07</td></tr></table>"
            ],
            "text/plain": [
              "<IPython.core.display.HTML object>"
            ]
          },
          "metadata": {
            "tags": []
          }
        }
      ]
    },
    {
      "cell_type": "markdown",
      "metadata": {
        "id": "3f1AQSfOHJs4"
      },
      "source": [
        "The improved Euler methods (midpoint, modified\n",
        "Euler, Heun) all do better than the original Euler, but the 4th-order\n",
        "Runge Kutta, constructed to cancel out terms in the Taylor series,\n",
        "works the best of all."
      ]
    },
    {
      "cell_type": "code",
      "metadata": {
        "id": "tI1-7YPSHoxA"
      },
      "source": [
        ""
      ],
      "execution_count": null,
      "outputs": []
    }
  ]
}